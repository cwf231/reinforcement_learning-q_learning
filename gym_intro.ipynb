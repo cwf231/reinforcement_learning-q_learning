{
 "cells": [
  {
   "cell_type": "markdown",
   "metadata": {},
   "source": [
    "# Starting by going through Gym tutorial.\n",
    "\n",
    "We're looking to understand the agent system through Gym to later be able to implement custom environments to interact with."
   ]
  },
  {
   "cell_type": "code",
   "execution_count": 11,
   "metadata": {
    "ExecuteTime": {
     "end_time": "2021-02-08T21:39:44.063326Z",
     "start_time": "2021-02-08T21:39:44.053322Z"
    }
   },
   "outputs": [],
   "source": [
    "import gym\n",
    "import numpy as np\n",
    "from IPython.display import clear_output"
   ]
  },
  {
   "cell_type": "markdown",
   "metadata": {},
   "source": [
    "## Rendering an agent taking random action."
   ]
  },
  {
   "cell_type": "code",
   "execution_count": 2,
   "metadata": {
    "ExecuteTime": {
     "end_time": "2021-02-08T20:43:17.456682Z",
     "start_time": "2021-02-08T20:43:00.514516Z"
    }
   },
   "outputs": [],
   "source": [
    "# Basic setup\n",
    "env = gym.make('MountainCar-v0')\n",
    "env.reset()\n",
    "\n",
    "for _ in range(1000):\n",
    "    env.render()\n",
    "    env.step(env.action_space.sample()) # take a random action\n",
    "env.close()"
   ]
  },
  {
   "cell_type": "markdown",
   "metadata": {},
   "source": [
    "## `env.step()` returns:\n",
    "- `observation` object (\"game state\")\n",
    "- reward (float)\n",
    "- done (bool)\n",
    "- info (dict)"
   ]
  },
  {
   "cell_type": "code",
   "execution_count": 6,
   "metadata": {
    "ExecuteTime": {
     "end_time": "2021-02-08T21:11:42.393702Z",
     "start_time": "2021-02-08T21:11:08.722326Z"
    }
   },
   "outputs": [
    {
     "name": "stdout",
     "output_type": "stream",
     "text": [
      "[-0.57012457  0.00546369]\n"
     ]
    }
   ],
   "source": [
    "# Try and complete challenge with random actions.\n",
    "env = gym.make('MountainCar-v0')\n",
    "\n",
    "for i_episode in range(20):\n",
    "    observation = env.reset()\n",
    "    for t in range(1,100+1):\n",
    "        env.render()\n",
    "        \n",
    "        clear_output(wait=True) # clear output and only show last observation\n",
    "        print(observation)\n",
    "        action = env.action_space.sample() # choose action\n",
    "        observation, reward, done, info = env.step(action) # take step\n",
    "        \n",
    "        if done:\n",
    "            print(f'Episode complete after {t} timesteps.')\n",
    "            break\n",
    "env.close()"
   ]
  },
  {
   "cell_type": "markdown",
   "metadata": {},
   "source": [
    "## Underbelly of `env`"
   ]
  },
  {
   "cell_type": "code",
   "execution_count": 7,
   "metadata": {
    "ExecuteTime": {
     "end_time": "2021-02-08T21:13:40.721138Z",
     "start_time": "2021-02-08T21:13:40.705098Z"
    }
   },
   "outputs": [
    {
     "name": "stdout",
     "output_type": "stream",
     "text": [
      "Action Space:\n",
      "\tDiscrete(3)\n",
      "Observation Space:\n",
      "\tBox(-1.2000000476837158, 0.6000000238418579, (2,), float32)\n"
     ]
    }
   ],
   "source": [
    "env = gym.make('MountainCar-v0')\n",
    "print(f'Action Space:\\n\\t{env.action_space}')\n",
    "print(f'Observation Space:\\n\\t{env.observation_space}')"
   ]
  },
  {
   "cell_type": "code",
   "execution_count": 8,
   "metadata": {
    "ExecuteTime": {
     "end_time": "2021-02-08T21:16:04.472077Z",
     "start_time": "2021-02-08T21:16:04.466077Z"
    }
   },
   "outputs": [
    {
     "name": "stdout",
     "output_type": "stream",
     "text": [
      "Observation Space Bounds\n",
      "High\t [0.6  0.07]\n",
      "Low\t [-1.2  -0.07]\n"
     ]
    }
   ],
   "source": [
    "print(f'Observation Space Bounds')\n",
    "print(f'High\\t', env.observation_space.high)\n",
    "print(f'Low\\t', env.observation_space.low)"
   ]
  },
  {
   "cell_type": "markdown",
   "metadata": {},
   "source": [
    "## Controlling the action"
   ]
  },
  {
   "cell_type": "code",
   "execution_count": 9,
   "metadata": {
    "ExecuteTime": {
     "end_time": "2021-02-08T21:24:43.079789Z",
     "start_time": "2021-02-08T21:24:39.619870Z"
    }
   },
   "outputs": [],
   "source": [
    "env = gym.make('MountainCar-v0')\n",
    "env.reset()\n",
    "\n",
    "done = False\n",
    "while not done:\n",
    "    action = 2 # always choose to move the car to the right\n",
    "    observation, reward, done, info = env.step(action)\n",
    "    env.render()\n",
    "env.close()"
   ]
  },
  {
   "cell_type": "markdown",
   "metadata": {},
   "source": [
    "# Training an agent"
   ]
  },
  {
   "cell_type": "code",
   "execution_count": 57,
   "metadata": {
    "ExecuteTime": {
     "end_time": "2021-02-08T22:14:46.741330Z",
     "start_time": "2021-02-08T22:14:46.722287Z"
    }
   },
   "outputs": [
    {
     "data": {
      "text/plain": [
       "(20, 20, 3)"
      ]
     },
     "execution_count": 57,
     "metadata": {},
     "output_type": "execute_result"
    }
   ],
   "source": [
    "env = gym.make('MountainCar-v0')\n",
    "env.reset()\n",
    "\n",
    "# Create a q-table.\n",
    "obs_size = [20, 20] # somewhat arbitrary\n",
    "win_size = (env.observation_space.high - env.observation_space.low) / obs_size # create discrete vars from continuous vars\n",
    "\n",
    "q_table = np.random.uniform(low=-2, high=0, size=(obs_size + [env.action_space.n])) # all rewards are -1 unless you reach the goal\n",
    "q_table.shape"
   ]
  },
  {
   "cell_type": "code",
   "execution_count": 58,
   "metadata": {
    "ExecuteTime": {
     "end_time": "2021-02-08T22:14:47.168939Z",
     "start_time": "2021-02-08T22:14:47.162938Z"
    }
   },
   "outputs": [
    {
     "name": "stdout",
     "output_type": "stream",
     "text": [
      "Discrete State:\t (9, 10)\n",
      "Q-Table Entry:\t [-0.17913958 -1.76265802 -0.72261911]\n",
      "Max Q-value at State:\t 0\n"
     ]
    }
   ],
   "source": [
    "def get_discrete_state(state):\n",
    "    discrete_state = (state - env.observation_space.low) / win_size\n",
    "    return (round(discrete_state[0]), round(discrete_state[1]))\n",
    "\n",
    "test_state = get_discrete_state(env.reset())\n",
    "print('Discrete State:\\t', test_state)\n",
    "print('Q-Table Entry:\\t', q_table[test_state])\n",
    "print('Max Q-value at State:\\t', np.argmax(q_table[test_state]))"
   ]
  },
  {
   "cell_type": "code",
   "execution_count": 59,
   "metadata": {
    "ExecuteTime": {
     "end_time": "2021-02-08T22:14:47.697572Z",
     "start_time": "2021-02-08T22:14:47.690546Z"
    }
   },
   "outputs": [],
   "source": [
    "learning_rate = 0.1\n",
    "discount = 0.95 # measure of how we value future reward vs current reward\n",
    "episodes = 5_000\n",
    "show_every = 500"
   ]
  },
  {
   "cell_type": "code",
   "execution_count": 60,
   "metadata": {
    "ExecuteTime": {
     "end_time": "2021-02-08T22:16:50.701472Z",
     "start_time": "2021-02-08T22:14:48.297846Z"
    }
   },
   "outputs": [
    {
     "name": "stdout",
     "output_type": "stream",
     "text": [
      "4999\n"
     ]
    }
   ],
   "source": [
    "for episode in range(episodes):\n",
    "    if episode % show_every == 0:\n",
    "        clear_output(wait=True)\n",
    "        print(episode)\n",
    "        render = True\n",
    "    else:\n",
    "        clear_output(wait=True)\n",
    "        print(episode)\n",
    "        render = False\n",
    "    discrete_state = get_discrete_state(env.reset())\n",
    "\n",
    "    done = False\n",
    "    while not done:\n",
    "        action = np.argmax(q_table[discrete_state])\n",
    "        observation, reward, done, info = env.step(action)\n",
    "        new_discrete_state = get_discrete_state(observation)\n",
    "        if render:\n",
    "            env.render()\n",
    "\n",
    "        if not done:\n",
    "            max_future_q = np.max(q_table[new_discrete_state])\n",
    "            current_q_val = q_table[discrete_state + (action,)]\n",
    "\n",
    "            # Calculating new q_values\n",
    "            new_q = (1 - learning_rate) * current_q_val + learning_rate * (reward + discount * max_future_q)\n",
    "            \n",
    "            q_table[discrete_state + (action,)] = new_q\n",
    "        elif observation[0] >= env.goal_position:\n",
    "            q_table[discrete_state + (action,)] = 0 # Reward for completion.\n",
    "\n",
    "        discrete_state = new_discrete_state\n",
    "\n",
    "    env.close()"
   ]
  },
  {
   "cell_type": "code",
   "execution_count": null,
   "metadata": {},
   "outputs": [],
   "source": []
  }
 ],
 "metadata": {
  "kernelspec": {
   "display_name": "Python [conda env:learn-env] *",
   "language": "python",
   "name": "conda-env-learn-env-py"
  },
  "language_info": {
   "codemirror_mode": {
    "name": "ipython",
    "version": 3
   },
   "file_extension": ".py",
   "mimetype": "text/x-python",
   "name": "python",
   "nbconvert_exporter": "python",
   "pygments_lexer": "ipython3",
   "version": "3.6.9"
  },
  "toc": {
   "base_numbering": 1,
   "nav_menu": {},
   "number_sections": true,
   "sideBar": true,
   "skip_h1_title": false,
   "title_cell": "Table of Contents",
   "title_sidebar": "Contents",
   "toc_cell": false,
   "toc_position": {
    "height": "calc(100% - 180px)",
    "left": "10px",
    "top": "150px",
    "width": "329.797px"
   },
   "toc_section_display": true,
   "toc_window_display": true
  }
 },
 "nbformat": 4,
 "nbformat_minor": 2
}
