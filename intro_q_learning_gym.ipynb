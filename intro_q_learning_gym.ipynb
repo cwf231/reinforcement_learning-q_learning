{
 "cells": [
  {
   "cell_type": "markdown",
   "metadata": {},
   "source": [
    "# Starting by going through Gym tutorial.\n",
    "\n",
    "We're looking to understand the agent system through Gym to later be able to implement custom environments to interact with.\n",
    "\n",
    "> I'll be actively reading the documentation for python's `gym` while writing this: https://gym.openai.com/envs/MountainCar-v0/\n",
    "> \n",
    "> Also, there is an excellent walk-through on PythonProgramming.net which I looked at and replicated at points: https://pythonprogramming.net/q-learning-reinforcement-learning-python-tutorial/"
   ]
  },
  {
   "cell_type": "code",
   "execution_count": 1,
   "metadata": {
    "ExecuteTime": {
     "end_time": "2021-02-25T17:56:54.631434Z",
     "start_time": "2021-02-25T17:56:54.187612Z"
    }
   },
   "outputs": [],
   "source": [
    "import gym\n",
    "import numpy as np\n",
    "\n",
    "import matplotlib.pyplot as plt\n",
    "\n",
    "from IPython.display import clear_output"
   ]
  },
  {
   "cell_type": "code",
   "execution_count": 2,
   "metadata": {
    "ExecuteTime": {
     "end_time": "2021-02-25T17:56:54.647328Z",
     "start_time": "2021-02-25T17:56:54.633328Z"
    }
   },
   "outputs": [],
   "source": [
    "%matplotlib inline\n",
    "plt.style.use(['ggplot', 'seaborn-talk'])\n",
    "np.random.seed(2021)"
   ]
  },
  {
   "cell_type": "markdown",
   "metadata": {},
   "source": [
    "## Rendering an agent taking random action."
   ]
  },
  {
   "cell_type": "code",
   "execution_count": 3,
   "metadata": {
    "ExecuteTime": {
     "end_time": "2021-02-25T17:56:54.679331Z",
     "start_time": "2021-02-25T17:56:54.649334Z"
    }
   },
   "outputs": [
    {
     "name": "stdout",
     "output_type": "stream",
     "text": [
      "3\n"
     ]
    }
   ],
   "source": [
    "# Basic setup\n",
    "env = gym.make('MountainCar-v0')\n",
    "env.reset()\n",
    "\n",
    "# Number of actions available in the space.\n",
    "print(env.action_space.n)"
   ]
  },
  {
   "cell_type": "code",
   "execution_count": 4,
   "metadata": {
    "ExecuteTime": {
     "end_time": "2021-02-25T17:56:54.695332Z",
     "start_time": "2021-02-25T17:56:54.682330Z"
    }
   },
   "outputs": [
    {
     "name": "stdout",
     "output_type": "stream",
     "text": [
      "[-0.52887982  0.        ]\n"
     ]
    }
   ],
   "source": [
    "# Starting \"observation state.\"\n",
    "print(env.reset()) # `[location, velocity]`"
   ]
  },
  {
   "cell_type": "code",
   "execution_count": 5,
   "metadata": {
    "ExecuteTime": {
     "end_time": "2021-02-25T17:57:11.684920Z",
     "start_time": "2021-02-25T17:56:54.697331Z"
    }
   },
   "outputs": [],
   "source": [
    "for _ in range(1000):\n",
    "    env.render()\n",
    "    env.step(env.action_space.sample()) # take a random action\n",
    "env.close()"
   ]
  },
  {
   "cell_type": "markdown",
   "metadata": {},
   "source": [
    "- *There are two observations that the agent is privy to with this environment: the location of the car and the velocity of the car.*\n",
    "\n",
    "- *There are three actions the agent can take at any point:*\n",
    "  1. *Move left* \n",
    "  2. *Move right*\n",
    "  3. *Don't move*"
   ]
  },
  {
   "cell_type": "markdown",
   "metadata": {},
   "source": [
    "## `env.step()` returns:\n",
    "- `observation` object (\"game state\")\n",
    "- reward (float)\n",
    "- done (bool)\n",
    "- info (dict)"
   ]
  },
  {
   "cell_type": "code",
   "execution_count": 6,
   "metadata": {
    "ExecuteTime": {
     "end_time": "2021-02-25T17:57:11.700696Z",
     "start_time": "2021-02-25T17:57:11.686646Z"
    }
   },
   "outputs": [
    {
     "name": "stdout",
     "output_type": "stream",
     "text": [
      "[-0.41599129 -0.00180594]\t-1.0\tFalse\n"
     ]
    }
   ],
   "source": [
    "# Observe the elements returned from env.step().\n",
    "env = gym.make('MountainCar-v0')\n",
    "\n",
    "observation = env.reset()\n",
    "\n",
    "action = env.action_space.sample() # choose action\n",
    "observation, reward, done, info = env.step(action) # take step\n",
    "print(f'{observation}\\t{reward}\\t{done}')\n",
    "    \n",
    "env.close()"
   ]
  },
  {
   "cell_type": "markdown",
   "metadata": {},
   "source": [
    "## Underbelly of `env`"
   ]
  },
  {
   "cell_type": "code",
   "execution_count": 7,
   "metadata": {
    "ExecuteTime": {
     "end_time": "2021-02-25T17:57:11.716649Z",
     "start_time": "2021-02-25T17:57:11.702646Z"
    }
   },
   "outputs": [
    {
     "name": "stdout",
     "output_type": "stream",
     "text": [
      "Action Space:\n",
      "\tDiscrete(3)\n",
      "Observation Space:\n",
      "\tBox(-1.2000000476837158, 0.6000000238418579, (2,), float32)\n"
     ]
    }
   ],
   "source": [
    "env = gym.make('MountainCar-v0')\n",
    "print(f'Action Space:\\n\\t{env.action_space}')\n",
    "print(f'Observation Space:\\n\\t{env.observation_space}')"
   ]
  },
  {
   "cell_type": "code",
   "execution_count": 8,
   "metadata": {
    "ExecuteTime": {
     "end_time": "2021-02-25T17:57:11.748651Z",
     "start_time": "2021-02-25T17:57:11.720644Z"
    }
   },
   "outputs": [
    {
     "name": "stdout",
     "output_type": "stream",
     "text": [
      "Observation Space Bounds\n",
      "High\t [0.6  0.07]\n",
      "Low\t [-1.2  -0.07]\n"
     ]
    }
   ],
   "source": [
    "print(f'Observation Space Bounds')\n",
    "print(f'High\\t', env.observation_space.high)\n",
    "print(f'Low\\t', env.observation_space.low)"
   ]
  },
  {
   "cell_type": "markdown",
   "metadata": {},
   "source": [
    "## Controlling the action"
   ]
  },
  {
   "cell_type": "code",
   "execution_count": 9,
   "metadata": {
    "ExecuteTime": {
     "end_time": "2021-02-25T17:57:13.533707Z",
     "start_time": "2021-02-25T17:57:11.753284Z"
    }
   },
   "outputs": [],
   "source": [
    "env = gym.make('MountainCar-v0')\n",
    "env.reset()\n",
    "\n",
    "for _ in range(100):\n",
    "    action = 2 # always choose to move the car to the right\n",
    "    observation, reward, done, info = env.step(action)\n",
    "    env.render()\n",
    "env.close()"
   ]
  },
  {
   "cell_type": "markdown",
   "metadata": {},
   "source": [
    "# Training an agent"
   ]
  },
  {
   "cell_type": "markdown",
   "metadata": {},
   "source": [
    "## Setup\n",
    "\n",
    "*The steps here can be found on PythonProgramming.net's tutorial: https://pythonprogramming.net/q-learning-reinforcement-learning-python-tutorial/*\n",
    "\n",
    "*I walk through them to understand them myself and organize them in order to recreate them later.*"
   ]
  },
  {
   "cell_type": "code",
   "execution_count": 10,
   "metadata": {
    "ExecuteTime": {
     "end_time": "2021-02-25T17:57:13.580712Z",
     "start_time": "2021-02-25T17:57:13.545731Z"
    }
   },
   "outputs": [
    {
     "data": {
      "text/plain": [
       "array([-0.45748826,  0.        ])"
      ]
     },
     "execution_count": 10,
     "metadata": {},
     "output_type": "execute_result"
    }
   ],
   "source": [
    "# Setup\n",
    "env = gym.make('MountainCar-v0')\n",
    "env.reset()"
   ]
  },
  {
   "cell_type": "code",
   "execution_count": 11,
   "metadata": {
    "ExecuteTime": {
     "end_time": "2021-02-25T17:57:13.596710Z",
     "start_time": "2021-02-25T17:57:13.586704Z"
    },
    "scrolled": true
   },
   "outputs": [
    {
     "data": {
      "text/plain": [
       "array([0.09 , 0.007])"
      ]
     },
     "execution_count": 11,
     "metadata": {},
     "output_type": "execute_result"
    }
   ],
   "source": [
    "# Create a q-table.\n",
    "obs_size = [20, 20] # Arbitrary choice - binning continuous into categorical.\n",
    "\n",
    "# Create discrete vars from continuous vars.\n",
    "win_size = (env.observation_space.high - env.observation_space.low) / obs_size\n",
    "win_size"
   ]
  },
  {
   "cell_type": "code",
   "execution_count": 12,
   "metadata": {
    "ExecuteTime": {
     "end_time": "2021-02-25T17:57:13.628703Z",
     "start_time": "2021-02-25T17:57:13.598701Z"
    }
   },
   "outputs": [
    {
     "data": {
      "text/plain": [
       "(20, 20, 3)"
      ]
     },
     "execution_count": 12,
     "metadata": {},
     "output_type": "execute_result"
    }
   ],
   "source": [
    "# All rewards are -1 unless you reach the goal\n",
    "q_table = np.random.uniform(\n",
    "    low=-2, high=0, size=(obs_size + [env.action_space.n])\n",
    ")\n",
    "q_table.shape"
   ]
  },
  {
   "cell_type": "code",
   "execution_count": 13,
   "metadata": {
    "ExecuteTime": {
     "end_time": "2021-02-25T17:57:13.660703Z",
     "start_time": "2021-02-25T17:57:13.630702Z"
    }
   },
   "outputs": [
    {
     "name": "stdout",
     "output_type": "stream",
     "text": [
      "Actions from [position-0, velocity-0]:\n",
      "\t [-0.78804344 -0.53326128 -1.72210569]\n"
     ]
    }
   ],
   "source": [
    "# Each column is an action. \n",
    "# There are 20 discrete positions and 20 discrete velocities.\n",
    "print('Actions from [position-0, velocity-0]:\\n\\t', q_table[0][0])"
   ]
  },
  {
   "cell_type": "code",
   "execution_count": 14,
   "metadata": {
    "ExecuteTime": {
     "end_time": "2021-02-25T17:57:13.691707Z",
     "start_time": "2021-02-25T17:57:13.664709Z"
    }
   },
   "outputs": [
    {
     "name": "stdout",
     "output_type": "stream",
     "text": [
      "Actions from [position-0, all-velocities]:\n",
      " [[-0.78804344 -0.53326128 -1.72210569]\n",
      " [-1.37465383 -0.00551344 -1.74367525]\n",
      " [-1.64201379 -0.49414914 -0.67567897]\n",
      " [-0.43137974 -1.80621121 -1.88285743]\n",
      " [-0.07520802 -0.76688511 -1.82674008]\n",
      " [-0.87745527 -0.76695058 -0.07231395]\n",
      " [-0.85139141 -1.2576783  -1.09570951]\n",
      " [-1.5962995  -0.86138976 -1.60980805]\n",
      " [-0.83259197 -1.04737305 -0.9643712 ]\n",
      " [-0.35380273 -0.53554995 -1.86188745]\n",
      " [-0.65574213 -0.71303039 -0.34397126]\n",
      " [-1.59106121 -0.76502209 -0.76459798]\n",
      " [-1.39786276 -0.25651883 -0.82069184]\n",
      " [-0.03645981 -1.11553553 -1.74736463]\n",
      " [-0.9823382  -1.13642763 -0.16812087]\n",
      " [-0.58196872 -0.21868923 -0.82222878]\n",
      " [-0.72634015 -1.31558213 -0.35241763]\n",
      " [-1.38969846 -1.38491307 -1.59735468]\n",
      " [-1.4696701  -0.69815249 -1.69077038]\n",
      " [-1.222601   -0.70477171 -0.30340177]]\n"
     ]
    }
   ],
   "source": [
    "print('Actions from [position-0, all-velocities]:\\n', q_table[0])"
   ]
  },
  {
   "cell_type": "code",
   "execution_count": 15,
   "metadata": {
    "ExecuteTime": {
     "end_time": "2021-02-25T17:57:13.707705Z",
     "start_time": "2021-02-25T17:57:13.694705Z"
    }
   },
   "outputs": [
    {
     "name": "stdout",
     "output_type": "stream",
     "text": [
      "Discrete State:\n",
      "\t (8, 10)\n",
      "Q-Table Entry:\n",
      "\t [-0.24085283 -0.73670442 -1.91457276]\n",
      "Max Q-value at State:\n",
      "\t 0\n"
     ]
    }
   ],
   "source": [
    "def get_discrete_state(state):\n",
    "    \"\"\"Returns a binned state (tuple).\"\"\"\n",
    "    \n",
    "    discrete_state = (state - env.observation_space.low) / win_size\n",
    "    return (round(discrete_state[0]), round(discrete_state[1]))\n",
    "\n",
    "test_state = get_discrete_state(env.reset())\n",
    "print('Discrete State:\\n\\t', test_state)\n",
    "print('Q-Table Entry:\\n\\t', q_table[test_state])\n",
    "print('Max Q-value at State:\\n\\t', np.argmax(q_table[test_state]))"
   ]
  },
  {
   "cell_type": "code",
   "execution_count": 16,
   "metadata": {
    "ExecuteTime": {
     "end_time": "2021-02-25T17:57:13.739701Z",
     "start_time": "2021-02-25T17:57:13.712706Z"
    }
   },
   "outputs": [
    {
     "name": "stdout",
     "output_type": "stream",
     "text": [
      "\n",
      "Epsilon:     1\n",
      "Start Decay: 1\n",
      "End Decay:   5000\n",
      "Decay Value: 0.00020004000800160032\n",
      "\n"
     ]
    }
   ],
   "source": [
    "# Set some variables.\n",
    "learning_rate = 0.1\n",
    "discount = 0.95 # measure of how we value future reward vs current reward\n",
    "episodes = 10_000\n",
    "show_every = 500\n",
    "\n",
    "# We want the agent to explore the environment to some extent for a while to \n",
    "# make sure they are finding all the nooks and crannies.\n",
    "epsilon = 1\n",
    "start_decay = 1 # episode number\n",
    "end_decay = episodes//2 # episode when we stop decaying \n",
    "decay_value = epsilon / (end_decay - start_decay)\n",
    "print(f'''\n",
    "Epsilon:     {epsilon}\n",
    "Start Decay: {start_decay}\n",
    "End Decay:   {end_decay}\n",
    "Decay Value: {decay_value}\n",
    "''')"
   ]
  },
  {
   "cell_type": "code",
   "execution_count": 17,
   "metadata": {
    "ExecuteTime": {
     "end_time": "2021-02-25T17:57:13.787701Z",
     "start_time": "2021-02-25T17:57:13.748705Z"
    }
   },
   "outputs": [],
   "source": [
    "def calculate_q_val(\n",
    "    learning_rate,\n",
    "    current_q_val,\n",
    "    reward,\n",
    "    discount,\n",
    "    max_future_q):\n",
    "    \"\"\"https://en.wikipedia.org/wiki/Q-learning\"\"\"\n",
    "    \n",
    "    temporal_difference = (reward + discount * max_future_q)\n",
    "    return (1 - learning_rate) * current_q_val + learning_rate * \\\n",
    "            temporal_difference"
   ]
  },
  {
   "cell_type": "code",
   "execution_count": 18,
   "metadata": {
    "ExecuteTime": {
     "end_time": "2021-02-25T17:57:13.803701Z",
     "start_time": "2021-02-25T17:57:13.790703Z"
    }
   },
   "outputs": [],
   "source": [
    "# Stat tracking\n",
    "episode_reward_lst = []\n",
    "episode_reward_details = {\n",
    "    'episode': [],\n",
    "    'average': [],\n",
    "    'max': [],\n",
    "    'min': []\n",
    "}"
   ]
  },
  {
   "cell_type": "markdown",
   "metadata": {},
   "source": [
    "## Training"
   ]
  },
  {
   "cell_type": "code",
   "execution_count": 19,
   "metadata": {
    "ExecuteTime": {
     "end_time": "2021-02-25T18:01:20.844410Z",
     "start_time": "2021-02-25T17:57:13.805702Z"
    }
   },
   "outputs": [
    {
     "name": "stdout",
     "output_type": "stream",
     "text": [
      "10000\n"
     ]
    }
   ],
   "source": [
    "# Iterate over number of episodes.\n",
    "for episode in range(1, episodes+1):\n",
    "    # Begin tracking rewards picked up by the agent.\n",
    "    total_reward = 0\n",
    "    \n",
    "    # Rendering settings.\n",
    "    if episode % show_every == 0:\n",
    "        clear_output(wait=True)\n",
    "        print(episode)\n",
    "        render = True\n",
    "    else:\n",
    "        clear_output(wait=True)\n",
    "        print(episode)\n",
    "        render = False\n",
    "        \n",
    "    # Get initial game state (this will be updated).\n",
    "    discrete_state = get_discrete_state(env.reset())\n",
    "\n",
    "    # Run through an episode.\n",
    "    done = False\n",
    "    while not done:\n",
    "        # Check if we're exploring or exploiting the environment.\n",
    "        if np.random.random() > epsilon:\n",
    "            # Based on the current `discrete state`, what does the q-table say?\n",
    "            action = np.argmax(q_table[discrete_state])\n",
    "        else:\n",
    "            # Be an explorer!\n",
    "            action = env.action_space.sample()\n",
    "        \n",
    "        # Take the action and get the new info.\n",
    "        observation, reward, done, info = env.step(action)\n",
    "        \n",
    "        total_reward += reward\n",
    "        \n",
    "        # Set the new state to discrete.\n",
    "        new_discrete_state = get_discrete_state(observation)\n",
    "        \n",
    "        # Are we going to see it?\n",
    "        if render:\n",
    "            env.render()\n",
    "\n",
    "        if not done:\n",
    "            # Once we look forward to the new_discrete_state, we find the \n",
    "            # q-value associated with it. The previous action brought us here,\n",
    "            # so they are connected concretely.\n",
    "            max_future_q = np.max(q_table[new_discrete_state])\n",
    "            \n",
    "            # Last action's q-value.\n",
    "            current_q_val = q_table[discrete_state + (action,)]\n",
    "\n",
    "            # Calculating new q_values.\n",
    "            new_q = calculate_q_val(learning_rate, current_q_val, \n",
    "                                    reward, discount, max_future_q)\n",
    "            \n",
    "            # Update the \"current\" discrete state's q to represent the\n",
    "            # consequences of the action.\n",
    "            q_table[discrete_state + (action,)] = new_q\n",
    "            \n",
    "        elif observation[0] >= env.goal_position:\n",
    "            q_table[discrete_state + (action,)] = reward # == 0 for completion.\n",
    "\n",
    "        discrete_state = new_discrete_state\n",
    "        \n",
    "        # Adjust epsilon - the liklihood the agent will explore randomly.\n",
    "        if end_decay >= episode >= start_decay:\n",
    "            epsilon -= decay_value\n",
    "            \n",
    "    # Track stats.\n",
    "    episode_reward_lst.append(total_reward)\n",
    "    if episode % 100 == 0:\n",
    "        recent_100 = episode_reward_lst[-100:]\n",
    "        episode_reward_details['episode'].append(episode)\n",
    "        episode_reward_details['average'].append(sum(recent_100)/100)\n",
    "        episode_reward_details['max'].append(max(recent_100))\n",
    "        episode_reward_details['min'].append(min(recent_100))\n",
    "            \n",
    "    env.close()"
   ]
  },
  {
   "cell_type": "markdown",
   "metadata": {},
   "source": [
    "## Plot Metrics"
   ]
  },
  {
   "cell_type": "code",
   "execution_count": 20,
   "metadata": {
    "ExecuteTime": {
     "end_time": "2021-02-25T18:01:21.161560Z",
     "start_time": "2021-02-25T18:01:20.846408Z"
    }
   },
   "outputs": [
    {
     "data": {
      "image/png": "[encoded data removed]",
      "text/plain": [
       "<Figure size 864x432 with 1 Axes>"
      ]
     },
     "metadata": {},
     "output_type": "display_data"
    }
   ],
   "source": [
    "# Plot results.\n",
    "fig, ax = plt.subplots(figsize=(12, 6))\n",
    "\n",
    "to_plot = [\n",
    "    ('average', 'Average Reward'),\n",
    "    ('max', 'Maximum Reward'),\n",
    "    ('min', 'Minimum Reward')\n",
    "]\n",
    "\n",
    "for y, label in to_plot:\n",
    "    ax.plot(\n",
    "        episode_reward_details['episode'], \n",
    "        episode_reward_details[y],\n",
    "        label=label\n",
    "        )\n",
    "ax.axvline(x=end_decay, ls='dotted', label='Exploration Finished')\n",
    "ax.set(\n",
    "    title='Reinforcement Learning - Agent Stats',\n",
    "    xlabel='Episode Number',\n",
    "    ylabel='Reward')\n",
    "ax.legend()\n",
    "fig.tight_layout()"
   ]
  },
  {
   "cell_type": "code",
   "execution_count": null,
   "metadata": {},
   "outputs": [],
   "source": []
  }
 ],
 "metadata": {
  "kernelspec": {
   "display_name": "Python [conda env:learn-env] *",
   "language": "python",
   "name": "conda-env-learn-env-py"
  },
  "language_info": {
   "codemirror_mode": {
    "name": "ipython",
    "version": 3
   },
   "file_extension": ".py",
   "mimetype": "text/x-python",
   "name": "python",
   "nbconvert_exporter": "python",
   "pygments_lexer": "ipython3",
   "version": "3.6.9"
  },
  "toc": {
   "base_numbering": 1,
   "nav_menu": {},
   "number_sections": true,
   "sideBar": true,
   "skip_h1_title": false,
   "title_cell": "Table of Contents",
   "title_sidebar": "Contents",
   "toc_cell": false,
   "toc_position": {
    "height": "calc(100% - 180px)",
    "left": "10px",
    "top": "150px",
    "width": "329.797px"
   },
   "toc_section_display": true,
   "toc_window_display": true
  }
 },
 "nbformat": 4,
 "nbformat_minor": 2
}
