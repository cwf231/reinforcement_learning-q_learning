{
 "cells": [
  {
   "cell_type": "markdown",
   "metadata": {},
   "source": [
    "# Using RL to learn to Checkmate\n",
    "\n",
    "This will be much more in depth: using a much larger environment (based on the number of moves there are at any given time). We're still going to use the techniques discussed: game-states, movement, and a q-table.\n",
    "\n",
    "***In order to make the q-table a reasonable size, we are going to use a 4x4 board instead of 8x8 since every piece location combination needs to be recorded.***\n",
    "\n",
    "\n",
    "First off, we need to code in the Chess aspect. Since we are making an abbreviated game of chess (with limited pieces), we'll make our game set only have the pieces we want to use. This can later be expanded.\n",
    "- Board\n",
    "  - 8x8 matrix\n",
    "- King\n",
    "  - Possible moves: One space in any direction (horizontal / diagonal)\n",
    "- Rook\n",
    "  - Possible moves: 1-3 spaces in each horizontal direction (N-S-E-W)\n",
    "  \n",
    "Rules:\n",
    "- Check\n",
    "  - The king is being attacked.\n",
    "- Checkmate\n",
    "  - End of the game.\n",
    "  \n",
    "***\n",
    "\n",
    "*In each game position, the agent will make either a king move or a rook move. Since some of those moves will be illegal (the piece would end up in check, or off the board, or going through another piece!), there will need to be some sort of mask which prohibits the agent from choosing these.*"
   ]
  },
  {
   "cell_type": "code",
   "execution_count": 1,
   "metadata": {
    "ExecuteTime": {
     "end_time": "2021-02-25T13:14:12.309280Z",
     "start_time": "2021-02-25T13:14:11.429206Z"
    }
   },
   "outputs": [],
   "source": [
    "import numpy as np\n",
    "import pandas as pd\n",
    "from IPython.display import clear_output\n",
    "import time\n",
    "import matplotlib.pyplot as plt"
   ]
  },
  {
   "cell_type": "code",
   "execution_count": 2,
   "metadata": {
    "ExecuteTime": {
     "end_time": "2021-02-25T13:14:12.324243Z",
     "start_time": "2021-02-25T13:14:12.311260Z"
    }
   },
   "outputs": [],
   "source": [
    "np.random.seed(2021)\n",
    "plt.style.use(['ggplot', 'seaborn-talk'])"
   ]
  },
  {
   "cell_type": "markdown",
   "metadata": {},
   "source": [
    "# Design Chess"
   ]
  },
  {
   "cell_type": "code",
   "execution_count": 3,
   "metadata": {
    "ExecuteTime": {
     "end_time": "2021-02-25T13:14:12.386283Z",
     "start_time": "2021-02-25T13:14:12.328245Z"
    }
   },
   "outputs": [],
   "source": [
    "class Board:\n",
    "    def __init__(self, setup_with=list(), n_squares=4):\n",
    "        self.n_squares = n_squares\n",
    "        self.board = np.zeros((self.n_squares, self.n_squares), dtype='object')\n",
    "        for p in setup_with:\n",
    "            self.board[tuple(p.position)] = p\n",
    "        \n",
    "    def __str__(self):\n",
    "        for x in range(self.n_squares):\n",
    "            for y in range(self.n_squares):\n",
    "                if self.board[(x, y)]:\n",
    "                    print(f' {self.board[(x, y)]} ', end='')\n",
    "                else:\n",
    "                    print(' . ', end='')\n",
    "            print()\n",
    "        return ''\n",
    "    \n",
    "    def __repr__(self):\n",
    "        self.__str__()\n",
    "        return ''\n",
    "    \n",
    "    def in_bounds(self, coord):\n",
    "        y, x = coord\n",
    "        if (x < 0) | (x >= self.n_squares) | (y < 0) | (y >= self.n_squares):\n",
    "            return False\n",
    "        return True\n",
    "    \n",
    "    def is_occupied(self, coord):\n",
    "        if self.board[coord]:\n",
    "            return True\n",
    "        return False\n",
    "        \n",
    "        \n",
    "class Piece:\n",
    "    def __init__(self, position, is_white: bool):\n",
    "        \"\"\"Position can be coordinates `(inv(y), x)` or string (`e4`).\"\"\"\n",
    "        if isinstance(position, str):\n",
    "            self.position = self.__interpret_position_string(position)\n",
    "        else:\n",
    "            self.position = np.array(position)\n",
    "        self.is_white = is_white\n",
    "        \n",
    "    def __interpret_position_string(self, s):\n",
    "        \"\"\"\n",
    "        Board positions like `e4` or `f6`. \n",
    "        Converted to coordinates (y, x):\n",
    "        \n",
    "        'a8' -> (0, 0)\n",
    "        'a1' -> (7, 0)\n",
    "        'h1' -> (7, 7)\n",
    "        \"\"\"\n",
    "        \n",
    "        file_dct = {\n",
    "            'a': 0,\n",
    "            'b': 1,\n",
    "            'c': 2,\n",
    "            'd': 3\n",
    "        }\n",
    "        return np.array([4-int(s[1]), file_dct[s[0]]])\n",
    "        \n",
    "class King(Piece):\n",
    "    def __init__(self, position, is_white):\n",
    "        super().__init__(position, is_white)\n",
    "        \n",
    "    def __str__(self):\n",
    "        if self.is_white:\n",
    "            return 'K'\n",
    "        return 'k'\n",
    "    \n",
    "    def __repr__(self):\n",
    "        return self.__str__()\n",
    "    \n",
    "    def all_possible_moves(self):\n",
    "        # Moves one space any direction.\n",
    "        movements = [np.array([x, y]) \n",
    "                     for x in range(-1, 1+1) \n",
    "                     for y in range(-1, 1+1)]\n",
    "        \n",
    "        # Remove standing still\n",
    "        movements = [m for m in movements if not all(m == np.array([0, 0]))]\n",
    "        return np.array(movements)\n",
    "    \n",
    "    def possible_legal(self, game):\n",
    "        enemy_king = [p for p in game.player.pieces + game.computer.pieces\n",
    "                      if isinstance(p, King) and p != self][0]\n",
    "        adj_to_enemy_king = [tuple(enemy_king.position + n) \n",
    "                             for n in enemy_king.all_possible_moves()]\n",
    "        if self.is_white:\n",
    "            friendly_pieces = [p for p in game.player.pieces]\n",
    "            friendly_squares = [tuple(p.position) for p in friendly_pieces]\n",
    "        else:\n",
    "            friendly_squares = []\n",
    "            \n",
    "        return [tuple(m) for m in self.all_possible_moves()\n",
    "                if game.board.in_bounds(tuple(self.position + m))\n",
    "                and tuple(self.position + m) not in \n",
    "                game.controlled_by('b' if self.is_white else 'w')\n",
    "                and tuple(self.position + m) not in adj_to_enemy_king\n",
    "                and tuple(self.position + m) not in friendly_squares]\n",
    "    \n",
    "    def controls(self, game):\n",
    "        return [tuple(m) for m in self.all_possible_moves()\n",
    "                if game.board.in_bounds(tuple(self.position + m))]\n",
    "    \n",
    "    \n",
    "class Rook(Piece):\n",
    "    def __init__(self, position, is_white):\n",
    "        super().__init__(position, is_white)\n",
    "        \n",
    "    def __str__(self):\n",
    "        if self.is_white:\n",
    "            return 'R'\n",
    "        return 'r'\n",
    "    \n",
    "    def __repr__(self):\n",
    "        return self.__str__()\n",
    "    \n",
    "    def all_possible_moves(self):\n",
    "        # Moves up to 3 spaces in all directions (n-e-s-w)\n",
    "        movements = [np.array([y, 0]) for y in range(-3, 3+1)] + \\\n",
    "                    [np.array([0, x]) for x in range(-3, 3+1)]\n",
    "        \n",
    "        # Remove standing still.\n",
    "        movements = [m for m in movements if not all(m == np.array([0, 0]))]\n",
    "        return np.array(movements)\n",
    "    \n",
    "    def possible_legal(self, game):\n",
    "        white_king_sq, white_rook_sq, black_king_sq = game.get_game_state()\n",
    "        possible_moves = []\n",
    "        for i in range(-1, -4, -1):\n",
    "            new_square = tuple(self.position + (i, 0))\n",
    "            if new_square == black_king_sq:\n",
    "                possible_moves.append((i, 0))\n",
    "                break\n",
    "            elif new_square == white_king_sq:\n",
    "                break\n",
    "            possible_moves.append((i, 0))\n",
    "        for i in range(-1, -4, -1):\n",
    "            new_square = tuple(self.position + (0, i))\n",
    "            if new_square == black_king_sq:\n",
    "                possible_moves.append((i, 0))\n",
    "                break\n",
    "            elif new_square == white_king_sq:\n",
    "                break\n",
    "            possible_moves.append((0, i))\n",
    "\n",
    "        for i in range(1, 4):\n",
    "            new_square = tuple(self.position + (i, 0))\n",
    "            if new_square == black_king_sq:\n",
    "                possible_moves.append((i, 0))\n",
    "                break\n",
    "            elif new_square == white_king_sq:\n",
    "                break\n",
    "            possible_moves.append((i, 0))\n",
    "        for i in range(1, 4):\n",
    "            new_square = tuple(self.position + (0, i))\n",
    "            if new_square == black_king_sq:\n",
    "                possible_moves.append((0, i))\n",
    "                break\n",
    "            elif new_square == white_king_sq:\n",
    "                break\n",
    "            possible_moves.append((0, i))\n",
    "            \n",
    "        return [m for m in possible_moves if \n",
    "                game.board.in_bounds(tuple(self.position + m))]\n",
    "    \n",
    "    def controls(self, game):\n",
    "        white_king_sq, white_rook_sq, black_king_sq = game.get_game_state()\n",
    "        possible_moves = []\n",
    "        for i in range(-1, -4, -1):\n",
    "            new_square = tuple(self.position + (i, 0))\n",
    "            if new_square == white_king_sq:\n",
    "                break\n",
    "            possible_moves.append((i, 0))\n",
    "        for i in range(-1, -4, -1):\n",
    "            new_square = tuple(self.position + (0, i))\n",
    "            if new_square == white_king_sq:\n",
    "                break\n",
    "            possible_moves.append((0, i))\n",
    "\n",
    "        for i in range(1, 4):\n",
    "            new_square = tuple(self.position + (i, 0))\n",
    "            if new_square == white_king_sq:\n",
    "                break\n",
    "            possible_moves.append((i, 0))\n",
    "        for i in range(1, 4):\n",
    "            new_square = tuple(self.position + (0, i))\n",
    "            if new_square == white_king_sq:\n",
    "                break\n",
    "            possible_moves.append((0, i))\n",
    "            \n",
    "        return [m for m in possible_moves if \n",
    "                game.board.in_bounds(tuple(self.position + m))]\n",
    "    \n",
    "    \n",
    "class Player:\n",
    "    def __init__(self, pieces=list()):\n",
    "        self.pieces = pieces\n",
    "        \n",
    "        \n",
    "class Game:\n",
    "    def __init__(self, white_pieces: list, black_pieces: list, board_size=4):\n",
    "        self.player = Player(white_pieces)\n",
    "        self.computer = Player(black_pieces)\n",
    "        self.board = Board(self.player.pieces + self.computer.pieces, \n",
    "                           board_size)\n",
    "        \n",
    "    def get_game_state(self):\n",
    "        \"\"\"\n",
    "        Return piece positions. \n",
    "            (w-king, w-rook, b-king)\n",
    "        \"\"\"\n",
    "        \n",
    "        pieces_dct = {\n",
    "            'w-king': (-1, -1),\n",
    "            'w-rook': (-1, -1),\n",
    "            'b-king': self.computer.pieces[0].position\n",
    "        }\n",
    "        \n",
    "        for p in self.player.pieces:\n",
    "            if isinstance(p, King):\n",
    "                pieces_dct['w-king'] = p.position\n",
    "            elif isinstance(p, Rook):\n",
    "                pieces_dct['w-rook'] = p.position\n",
    "        return (tuple(pieces_dct.get('w-king', (0, 0))), \n",
    "                tuple(pieces_dct.get('w-rook', (0, 0))), \n",
    "                tuple(pieces_dct.get('b-king', (0, 0))))\n",
    "    \n",
    "    def controlled_by(self, color: str):\n",
    "        \"\"\"\n",
    "        Squares (coordinates) that `color`-player controls.\n",
    "        `color` can be one of ('w', 'b', 'white', 'black')\n",
    "        \"\"\"\n",
    "        \n",
    "        if color.lower() in ('w', 'white'):\n",
    "            side = self.player\n",
    "        elif color.lower() in ('b', 'black'):\n",
    "            side = self.computer\n",
    "            \n",
    "        all_possible = []\n",
    "        for p in side.pieces:\n",
    "            all_possible += [tuple(p.position + a) \n",
    "                             for a in p.controls(self)]\n",
    "            \n",
    "        return set([coord for coord in all_possible \n",
    "                    if self.board.in_bounds(coord)])\n",
    "    \n",
    "    def move(self, piece, action):\n",
    "        starting_coord = piece.position\n",
    "        ending_coord = tuple(starting_coord + action)\n",
    "        \n",
    "        # Check if there's been a capture.\n",
    "        if ending_coord in self.get_game_state():\n",
    "            captured_piece = [\n",
    "                p for p in self.player.pieces + self.computer.pieces\n",
    "                if tuple(p.position) == ending_coord\n",
    "            ][0]\n",
    "            if captured_piece.is_white:\n",
    "                \n",
    "                self.player.pieces.remove(captured_piece)\n",
    "            else:\n",
    "                self.computer.pieces.remove(captured_piece)\n",
    "                \n",
    "        # Move piece, set board.\n",
    "        piece.position = np.array(ending_coord)\n",
    "        self.set_board()\n",
    "        \n",
    "    def set_board(self):\n",
    "        self.board.board = np.zeros((self.board.n_squares, \n",
    "                                     self.board.n_squares), \n",
    "                                    dtype='object')\n",
    "        for p in self.player.pieces + self.computer.pieces:\n",
    "            self.board.board[tuple(p.position)] = p\n",
    "            \n",
    "    def possible_moves_for(self, color: str):\n",
    "        \"\"\"\n",
    "        Color must be one of ('w', 'b', 'white', 'black').\n",
    "        Returns a list of two lists: \n",
    "            Possbile king moves and possible rook moves.\n",
    "        \"\"\"\n",
    "        player = self.player if color in ('w', 'white') else self.computer\n",
    "        king_possible = []\n",
    "        rook_possible = []\n",
    "        for p in player.pieces:\n",
    "            if isinstance(p, King):\n",
    "                king_possible = p.possible_legal(self)\n",
    "            elif isinstance(p, Rook):\n",
    "                rook_possible = p.possible_legal(self)\n",
    "                \n",
    "        return [sorted(king_possible), sorted(rook_possible)]\n",
    "    \n",
    "    def __nowhere_to_run(self):\n",
    "        \"\"\"Returns if the black king has no legal movement squares.\"\"\"\n",
    "        \n",
    "        if not self.computer.pieces:\n",
    "            print('NO BLACK PIECES')\n",
    "            print(self.board)\n",
    "            time.sleep(5)\n",
    "            return True\n",
    "        king = self.computer.pieces[0]\n",
    "        king_possible = set(\n",
    "            [tuple(king.position + a) for a in king.possible_legal(self)\n",
    "             if self.board.in_bounds(tuple(king.position + a))])\n",
    "        white_controlled = self.controlled_by('w')\n",
    "        if not king_possible - white_controlled:\n",
    "            return True\n",
    "        return False\n",
    "    \n",
    "    def __nowhere_to_hide(self):\n",
    "        \"\"\"\n",
    "        Returns if the black king is standing on a square controlled by \n",
    "        the opponent.\n",
    "        \"\"\"\n",
    "        \n",
    "        if not self.computer.pieces:\n",
    "            print('NO BLACK PIECES')\n",
    "            print(self.board)\n",
    "            time.sleep(5)\n",
    "            return True\n",
    "        \n",
    "        king = self.computer.pieces[0]\n",
    "        return tuple(king.position) in self.controlled_by('w')\n",
    "    \n",
    "    def is_stalemate(self):\n",
    "        \"\"\"Returns bool if the board state is stalemate.\"\"\"\n",
    "        return self.__nowhere_to_run() and not self.__nowhere_to_hide()\n",
    "    \n",
    "    def is_checkmate(self):\n",
    "        \"\"\"Returns bool if the board state is checkmate.\"\"\"\n",
    "        return self.__nowhere_to_run() and self.__nowhere_to_hide()\n",
    "    \n",
    "    \n",
    "def convert_coord_to_square(coord):\n",
    "    \"\"\"Returns the string (eg: `a1`) based on a coordinate.\"\"\"\n",
    "    rank, file = coord\n",
    "    file_dct = {\n",
    "        0: 'a',\n",
    "        1: 'b',\n",
    "        2: 'c',\n",
    "        3: 'd'\n",
    "    }\n",
    "    return str(file_dct[file]) + str(4 - rank)"
   ]
  },
  {
   "cell_type": "code",
   "execution_count": 4,
   "metadata": {
    "ExecuteTime": {
     "end_time": "2021-02-25T13:14:12.418243Z",
     "start_time": "2021-02-25T13:14:12.388253Z"
    }
   },
   "outputs": [],
   "source": [
    "def set_up_new_game():\n",
    "    return Game(\n",
    "        white_pieces=[King('d1', 1), Rook('a1', 1)],\n",
    "        black_pieces=[King('d4', 0)],\n",
    "        board_size=4\n",
    "    )"
   ]
  },
  {
   "cell_type": "markdown",
   "metadata": {},
   "source": [
    "## Check interface and functionality."
   ]
  },
  {
   "cell_type": "code",
   "execution_count": 5,
   "metadata": {
    "ExecuteTime": {
     "end_time": "2021-02-25T13:14:12.466295Z",
     "start_time": "2021-02-25T13:14:12.419248Z"
    }
   },
   "outputs": [
    {
     "name": "stdout",
     "output_type": "stream",
     "text": [
      "*GAME BOARD*\n",
      "************\n",
      " .  .  .  k \n",
      " .  .  .  . \n",
      " .  .  .  . \n",
      " R  .  .  K \n",
      "\n",
      "K\n",
      "Legal Moves:\n",
      "[(-1, -1), (-1, 0), (0, -1)]\n",
      "\n",
      "R\n",
      "Legal Moves:\n",
      "[(-1, 0), (-2, 0), (-3, 0), (0, 1), (0, 2)]\n",
      "\n",
      "Controlled by white: {(3, 2), (0, 0), (3, 1), (2, 0), (2, 3), (2, 2), (1, 0)}\n"
     ]
    }
   ],
   "source": [
    "game = set_up_new_game()\n",
    "print('*GAME BOARD*')\n",
    "print('************')\n",
    "print(game.board)\n",
    "for p in game.player.pieces:\n",
    "    print(p)\n",
    "    print('Legal Moves:')\n",
    "    print(p.possible_legal(game))\n",
    "    print()\n",
    "print('Controlled by white:', game.controlled_by('w'))"
   ]
  },
  {
   "cell_type": "code",
   "execution_count": 6,
   "metadata": {
    "ExecuteTime": {
     "end_time": "2021-02-25T13:14:12.498246Z",
     "start_time": "2021-02-25T13:14:12.468246Z"
    }
   },
   "outputs": [
    {
     "name": "stdout",
     "output_type": "stream",
     "text": [
      " .  .  .  k \n",
      " .  .  .  . \n",
      " .  .  .  . \n",
      " R  .  .  K \n",
      "\n",
      " .  .  .  . \n",
      " .  .  k  . \n",
      " .  .  .  . \n",
      " R  .  .  K \n",
      "\n",
      " .  .  .  . \n",
      " .  .  .  . \n",
      " .  k  .  . \n",
      " R  .  .  K \n",
      "\n",
      " .  .  .  . \n",
      " .  .  .  . \n",
      " .  .  .  . \n",
      " k  .  .  K \n",
      "\n",
      " .  .  .  . \n",
      " .  .  .  . \n",
      " .  k  .  . \n",
      " .  .  .  K \n",
      "\n"
     ]
    }
   ],
   "source": [
    "# Check functionality of capturing.\n",
    "king = game.computer.pieces[0]\n",
    "print(game.board)\n",
    "\n",
    "# Move the king to capture the rook and then move away.\n",
    "choice_lst = [(1, -1), (1, -1), (1, -1), (-1, 1)]\n",
    "for choice in choice_lst:\n",
    "    game.move(king, choice)\n",
    "    print(game.board)"
   ]
  },
  {
   "cell_type": "code",
   "execution_count": 7,
   "metadata": {
    "ExecuteTime": {
     "end_time": "2021-02-25T13:14:12.530285Z",
     "start_time": "2021-02-25T13:14:12.500249Z"
    }
   },
   "outputs": [],
   "source": [
    "def move_king_randomly(king, game, n=10):\n",
    "    print('Starting Position:')\n",
    "    print(game.board)\n",
    "    for _ in range(n):\n",
    "        print('\\tAll possible:', king.possible_legal(game))\n",
    "        random_move = king.possible_legal(game)[\n",
    "            np.random.randint(len(king.possible_legal(game)))\n",
    "        ]\n",
    "        print('\\tChosen:', random_move)\n",
    "        game.move(king, random_move)\n",
    "        print('Moved:')\n",
    "        print(game.board)"
   ]
  },
  {
   "cell_type": "code",
   "execution_count": 8,
   "metadata": {
    "ExecuteTime": {
     "end_time": "2021-02-25T13:14:12.703283Z",
     "start_time": "2021-02-25T13:14:12.532246Z"
    },
    "scrolled": true
   },
   "outputs": [
    {
     "name": "stdout",
     "output_type": "stream",
     "text": [
      "Starting Position:\n",
      " .  .  .  . \n",
      " .  .  .  . \n",
      " .  k  .  . \n",
      " .  .  .  K \n",
      "\n",
      "\tAll possible: [(-1, -1), (-1, 0), (-1, 1), (0, -1), (1, -1), (1, 0)]\n",
      "\tChosen: (1, -1)\n",
      "Moved:\n",
      " .  .  .  . \n",
      " .  .  .  . \n",
      " .  .  .  . \n",
      " k  .  .  K \n",
      "\n",
      "\tAll possible: [(-1, 0), (-1, 1), (0, 1)]\n",
      "\tChosen: (-1, 1)\n",
      "Moved:\n",
      " .  .  .  . \n",
      " .  .  .  . \n",
      " .  k  .  . \n",
      " .  .  .  K \n",
      "\n",
      "\tAll possible: [(-1, -1), (-1, 0), (-1, 1), (0, -1), (1, -1), (1, 0)]\n",
      "\tChosen: (-1, 0)\n",
      "Moved:\n",
      " .  .  .  . \n",
      " .  k  .  . \n",
      " .  .  .  . \n",
      " .  .  .  K \n",
      "\n",
      "\tAll possible: [(-1, -1), (-1, 0), (-1, 1), (0, -1), (0, 1), (1, -1), (1, 0)]\n",
      "\tChosen: (-1, -1)\n",
      "Moved:\n",
      " k  .  .  . \n",
      " .  .  .  . \n",
      " .  .  .  . \n",
      " .  .  .  K \n",
      "\n",
      "\tAll possible: [(0, 1), (1, 0), (1, 1)]\n",
      "\tChosen: (1, 0)\n",
      "Moved:\n",
      " .  .  .  . \n",
      " k  .  .  . \n",
      " .  .  .  . \n",
      " .  .  .  K \n",
      "\n",
      "\tAll possible: [(-1, 0), (-1, 1), (0, 1), (1, 0), (1, 1)]\n",
      "\tChosen: (1, 1)\n",
      "Moved:\n",
      " .  .  .  . \n",
      " .  .  .  . \n",
      " .  k  .  . \n",
      " .  .  .  K \n",
      "\n",
      "\tAll possible: [(-1, -1), (-1, 0), (-1, 1), (0, -1), (1, -1), (1, 0)]\n",
      "\tChosen: (0, -1)\n",
      "Moved:\n",
      " .  .  .  . \n",
      " .  .  .  . \n",
      " k  .  .  . \n",
      " .  .  .  K \n",
      "\n",
      "\tAll possible: [(-1, 0), (-1, 1), (0, 1), (1, 0), (1, 1)]\n",
      "\tChosen: (-1, 0)\n",
      "Moved:\n",
      " .  .  .  . \n",
      " k  .  .  . \n",
      " .  .  .  . \n",
      " .  .  .  K \n",
      "\n",
      "\tAll possible: [(-1, 0), (-1, 1), (0, 1), (1, 0), (1, 1)]\n",
      "\tChosen: (1, 1)\n",
      "Moved:\n",
      " .  .  .  . \n",
      " .  .  .  . \n",
      " .  k  .  . \n",
      " .  .  .  K \n",
      "\n",
      "\tAll possible: [(-1, -1), (-1, 0), (-1, 1), (0, -1), (1, -1), (1, 0)]\n",
      "\tChosen: (-1, 0)\n",
      "Moved:\n",
      " .  .  .  . \n",
      " .  k  .  . \n",
      " .  .  .  . \n",
      " .  .  .  K \n",
      "\n",
      "\tAll possible: [(-1, -1), (-1, 0), (-1, 1), (0, -1), (0, 1), (1, -1), (1, 0)]\n",
      "\tChosen: (1, -1)\n",
      "Moved:\n",
      " .  .  .  . \n",
      " .  .  .  . \n",
      " k  .  .  . \n",
      " .  .  .  K \n",
      "\n",
      "\tAll possible: [(-1, 0), (-1, 1), (0, 1), (1, 0), (1, 1)]\n",
      "\tChosen: (-1, 1)\n",
      "Moved:\n",
      " .  .  .  . \n",
      " .  k  .  . \n",
      " .  .  .  . \n",
      " .  .  .  K \n",
      "\n",
      "\tAll possible: [(-1, -1), (-1, 0), (-1, 1), (0, -1), (0, 1), (1, -1), (1, 0)]\n",
      "\tChosen: (1, 0)\n",
      "Moved:\n",
      " .  .  .  . \n",
      " .  .  .  . \n",
      " .  k  .  . \n",
      " .  .  .  K \n",
      "\n",
      "\tAll possible: [(-1, -1), (-1, 0), (-1, 1), (0, -1), (1, -1), (1, 0)]\n",
      "\tChosen: (-1, 0)\n",
      "Moved:\n",
      " .  .  .  . \n",
      " .  k  .  . \n",
      " .  .  .  . \n",
      " .  .  .  K \n",
      "\n",
      "\tAll possible: [(-1, -1), (-1, 0), (-1, 1), (0, -1), (0, 1), (1, -1), (1, 0)]\n",
      "\tChosen: (0, 1)\n",
      "Moved:\n",
      " .  .  .  . \n",
      " .  .  k  . \n",
      " .  .  .  . \n",
      " .  .  .  K \n",
      "\n",
      "\tAll possible: [(-1, -1), (-1, 0), (-1, 1), (0, -1), (0, 1), (1, -1)]\n",
      "\tChosen: (1, -1)\n",
      "Moved:\n",
      " .  .  .  . \n",
      " .  .  .  . \n",
      " .  k  .  . \n",
      " .  .  .  K \n",
      "\n",
      "\tAll possible: [(-1, -1), (-1, 0), (-1, 1), (0, -1), (1, -1), (1, 0)]\n",
      "\tChosen: (-1, 1)\n",
      "Moved:\n",
      " .  .  .  . \n",
      " .  .  k  . \n",
      " .  .  .  . \n",
      " .  .  .  K \n",
      "\n",
      "\tAll possible: [(-1, -1), (-1, 0), (-1, 1), (0, -1), (0, 1), (1, -1)]\n",
      "\tChosen: (-1, 1)\n",
      "Moved:\n",
      " .  .  .  k \n",
      " .  .  .  . \n",
      " .  .  .  . \n",
      " .  .  .  K \n",
      "\n",
      "\tAll possible: [(0, -1), (1, -1), (1, 0)]\n",
      "\tChosen: (0, -1)\n",
      "Moved:\n",
      " .  .  k  . \n",
      " .  .  .  . \n",
      " .  .  .  . \n",
      " .  .  .  K \n",
      "\n",
      "\tAll possible: [(0, -1), (0, 1), (1, -1), (1, 0), (1, 1)]\n",
      "\tChosen: (1, 0)\n",
      "Moved:\n",
      " .  .  .  . \n",
      " .  .  k  . \n",
      " .  .  .  . \n",
      " .  .  .  K \n",
      "\n",
      "\tAll possible: [(-1, -1), (-1, 0), (-1, 1), (0, -1), (0, 1), (1, -1)]\n",
      "\tChosen: (-1, 0)\n",
      "Moved:\n",
      " .  .  k  . \n",
      " .  .  .  . \n",
      " .  .  .  . \n",
      " .  .  .  K \n",
      "\n",
      "\tAll possible: [(0, -1), (0, 1), (1, -1), (1, 0), (1, 1)]\n",
      "\tChosen: (0, -1)\n",
      "Moved:\n",
      " .  k  .  . \n",
      " .  .  .  . \n",
      " .  .  .  . \n",
      " .  .  .  K \n",
      "\n",
      "\tAll possible: [(0, -1), (0, 1), (1, -1), (1, 0), (1, 1)]\n",
      "\tChosen: (1, -1)\n",
      "Moved:\n",
      " .  .  .  . \n",
      " k  .  .  . \n",
      " .  .  .  . \n",
      " .  .  .  K \n",
      "\n",
      "\tAll possible: [(-1, 0), (-1, 1), (0, 1), (1, 0), (1, 1)]\n",
      "\tChosen: (1, 0)\n",
      "Moved:\n",
      " .  .  .  . \n",
      " .  .  .  . \n",
      " k  .  .  . \n",
      " .  .  .  K \n",
      "\n",
      "\tAll possible: [(-1, 0), (-1, 1), (0, 1), (1, 0), (1, 1)]\n",
      "\tChosen: (1, 1)\n",
      "Moved:\n",
      " .  .  .  . \n",
      " .  .  .  . \n",
      " .  .  .  . \n",
      " .  k  .  K \n",
      "\n",
      "\tAll possible: [(-1, -1), (-1, 0), (0, -1)]\n",
      "\tChosen: (-1, 0)\n",
      "Moved:\n",
      " .  .  .  . \n",
      " .  .  .  . \n",
      " .  k  .  . \n",
      " .  .  .  K \n",
      "\n",
      "\tAll possible: [(-1, -1), (-1, 0), (-1, 1), (0, -1), (1, -1), (1, 0)]\n",
      "\tChosen: (-1, -1)\n",
      "Moved:\n",
      " .  .  .  . \n",
      " k  .  .  . \n",
      " .  .  .  . \n",
      " .  .  .  K \n",
      "\n",
      "\tAll possible: [(-1, 0), (-1, 1), (0, 1), (1, 0), (1, 1)]\n",
      "\tChosen: (-1, 1)\n",
      "Moved:\n",
      " .  k  .  . \n",
      " .  .  .  . \n",
      " .  .  .  . \n",
      " .  .  .  K \n",
      "\n",
      "\tAll possible: [(0, -1), (0, 1), (1, -1), (1, 0), (1, 1)]\n",
      "\tChosen: (1, -1)\n",
      "Moved:\n",
      " .  .  .  . \n",
      " k  .  .  . \n",
      " .  .  .  . \n",
      " .  .  .  K \n",
      "\n",
      "\tAll possible: [(-1, 0), (-1, 1), (0, 1), (1, 0), (1, 1)]\n",
      "\tChosen: (-1, 1)\n",
      "Moved:\n",
      " .  k  .  . \n",
      " .  .  .  . \n",
      " .  .  .  . \n",
      " .  .  .  K \n",
      "\n"
     ]
    }
   ],
   "source": [
    "# Test functionality of movement.\n",
    "king = game.computer.pieces[0]\n",
    "\n",
    "move_king_randomly(king, game, 30)"
   ]
  },
  {
   "cell_type": "code",
   "execution_count": 9,
   "metadata": {
    "ExecuteTime": {
     "end_time": "2021-02-25T13:14:12.719244Z",
     "start_time": "2021-02-25T13:14:12.706246Z"
    }
   },
   "outputs": [
    {
     "name": "stdout",
     "output_type": "stream",
     "text": [
      " .  .  .  k \n",
      " .  .  .  . \n",
      " .  .  .  K \n",
      " .  .  R  . \n",
      "\n",
      "Checkmate:\n",
      "\t False\n",
      "Stalemate:\n",
      "\t True\n"
     ]
    }
   ],
   "source": [
    "# Check stalemate logic.\n",
    "game = Game(\n",
    "    white_pieces=[King('d2', 1), Rook('c1', 1)],\n",
    "    black_pieces=[King('d4', 0)]\n",
    ")\n",
    "print(game.board)\n",
    "print('Checkmate:\\n\\t', game.is_checkmate())\n",
    "print('Stalemate:\\n\\t', game.is_stalemate())"
   ]
  },
  {
   "cell_type": "code",
   "execution_count": 10,
   "metadata": {
    "ExecuteTime": {
     "end_time": "2021-02-25T13:14:12.766245Z",
     "start_time": "2021-02-25T13:14:12.721248Z"
    },
    "scrolled": true
   },
   "outputs": [
    {
     "name": "stdout",
     "output_type": "stream",
     "text": [
      " R  .  .  k \n",
      " .  .  .  . \n",
      " .  .  .  K \n",
      " .  .  .  . \n",
      "\n",
      "Checkmate:\n",
      "\t True\n",
      "Stalemate:\n",
      "\t False\n"
     ]
    }
   ],
   "source": [
    "# Check checkmate logic.\n",
    "game = Game(\n",
    "    white_pieces=[King('d2', 1), Rook('a4', 1)],\n",
    "    black_pieces=[King('d4', 0)]\n",
    ")\n",
    "print(game.board)\n",
    "print('Checkmate:\\n\\t', game.is_checkmate())\n",
    "print('Stalemate:\\n\\t', game.is_stalemate())"
   ]
  },
  {
   "cell_type": "code",
   "execution_count": 11,
   "metadata": {
    "ExecuteTime": {
     "end_time": "2021-02-25T13:14:12.796245Z",
     "start_time": "2021-02-25T13:14:12.769246Z"
    }
   },
   "outputs": [
    {
     "data": {
      "text/plain": [
       "((2, 3), (0, 0), (0, 3))"
      ]
     },
     "execution_count": 11,
     "metadata": {},
     "output_type": "execute_result"
    }
   ],
   "source": [
    "# Get game state.\n",
    "game.get_game_state()"
   ]
  },
  {
   "cell_type": "markdown",
   "metadata": {},
   "source": [
    "***The q-table lookup will need a mapping to the pieces and the movements. The actions will look like this:***\n",
    "```\n",
    "possible_movements: {\n",
    "    [0, 0]:  ``K(-1, -1)``,\n",
    "    [0, 1]:  ``K(-1,  0)``,\n",
    "    [0, 2]:  ``K(-1,  1)``,\n",
    "    [0, 3]:  ``K( 0, -1)``,\n",
    "    [0, 4]:  ``K( 0,  1)``,\n",
    "    [0, 5]:  ``K( 1, -1)``,\n",
    "    [0, 6]:  ``K( 1,  0)``,\n",
    "    [0, 7]:  ``K( 1,  1)``,\n",
    "    \n",
    "    [1,  8]: ``R(-3,  0)``,\n",
    "    [1,  9]: ``R(-2,  0)``,\n",
    "    [1, 10]: ``R(-1,  0)``,\n",
    "    [1, 11]: ``R( 1,  0)``,\n",
    "    [1, 12]: ``R( 2,  0)``,\n",
    "    [1, 13]: ``R( 3,  0)``,\n",
    "    [1, 14]: ``R( 0, -3)``,\n",
    "    [1, 15]: ``R( 0, -2)``,\n",
    "    [1, 16]: ``R( 0, -1)``,\n",
    "    [1, 17]: ``R( 0,  1)``,\n",
    "    [1, 18]: ``R( 0,  2)``,\n",
    "    [1, 19]: ``R( 0,  3)``\n",
    "}\n",
    "```\n",
    "\n",
    "***The first 8 actions are king moves, the next 12 actions are rook moves.***\n",
    "\n",
    "We need to create a map to take a list of possible moves from all available pieces and convert it into a list of possible indices that will be sliced out of the q-table."
   ]
  },
  {
   "cell_type": "code",
   "execution_count": 12,
   "metadata": {
    "ExecuteTime": {
     "end_time": "2021-02-25T13:14:12.843242Z",
     "start_time": "2021-02-25T13:14:12.798250Z"
    }
   },
   "outputs": [
    {
     "data": {
      "text/plain": [
       "[[(-1, -1), (-1, 0), (-1, 1), (0, -1), (0, 1), (1, -1), (1, 0), (1, 1)],\n",
       " [(-3, 0),\n",
       "  (-2, 0),\n",
       "  (-1, 0),\n",
       "  (1, 0),\n",
       "  (2, 0),\n",
       "  (3, 0),\n",
       "  (0, -3),\n",
       "  (0, -2),\n",
       "  (0, -1),\n",
       "  (0, 1),\n",
       "  (0, 2),\n",
       "  (0, 3)]]"
      ]
     },
     "execution_count": 12,
     "metadata": {},
     "output_type": "execute_result"
    }
   ],
   "source": [
    "Q_TABLE_HEADER = [\n",
    "    # King moves.\n",
    "    [(-1, -1), (-1,  0), (-1,  1), \n",
    "     ( 0, -1), ( 0,  1), \n",
    "     ( 1, -1), ( 1,  0), ( 1,  1)],\n",
    "    \n",
    "    # Rook moves.\n",
    "    [(-3,  0), (-2,  0), (-1,  0),\n",
    "     ( 1,  0), ( 2,  0), ( 3,  0),\n",
    "     ( 0, -3), ( 0, -2), ( 0, -1),\n",
    "     ( 0,  1), ( 0,  2), ( 0,  3)]\n",
    "]\n",
    "Q_TABLE_HEADER"
   ]
  },
  {
   "cell_type": "code",
   "execution_count": 13,
   "metadata": {
    "ExecuteTime": {
     "end_time": "2021-02-25T13:14:12.889246Z",
     "start_time": "2021-02-25T13:14:12.846245Z"
    }
   },
   "outputs": [
    {
     "name": "stdout",
     "output_type": "stream",
     "text": [
      " .  .  .  k \n",
      " .  .  .  . \n",
      " .  .  .  . \n",
      " R  .  .  K \n",
      "\n"
     ]
    },
    {
     "data": {
      "text/plain": [
       "[[(-1, -1), (-1, 0), (0, -1)], [(-3, 0), (-2, 0), (-1, 0), (0, 1), (0, 2)]]"
      ]
     },
     "execution_count": 13,
     "metadata": {},
     "output_type": "execute_result"
    }
   ],
   "source": [
    "game = set_up_new_game()\n",
    "print(game.board)\n",
    "possible_test = game.possible_moves_for('w')\n",
    "possible_test"
   ]
  },
  {
   "cell_type": "code",
   "execution_count": 14,
   "metadata": {
    "ExecuteTime": {
     "end_time": "2021-02-25T13:14:12.921257Z",
     "start_time": "2021-02-25T13:14:12.892250Z"
    }
   },
   "outputs": [],
   "source": [
    "def get_index_map(possible_moves, Q_TABLE_HEADER=Q_TABLE_HEADER):\n",
    "    \"\"\"\n",
    "    Returns a list of tuples to slice the q-table header and mask \n",
    "    the table to only include possible values.\n",
    "    \"\"\"\n",
    "    \n",
    "    possible_idx = []\n",
    "    for list_index in (0, 1):\n",
    "        for possible_option in possible_moves[list_index]:\n",
    "            possible_idx.append(\n",
    "                (list_index, Q_TABLE_HEADER[list_index].index(possible_option))\n",
    "            )\n",
    "    return possible_idx"
   ]
  },
  {
   "cell_type": "code",
   "execution_count": 15,
   "metadata": {
    "ExecuteTime": {
     "end_time": "2021-02-25T13:14:12.953243Z",
     "start_time": "2021-02-25T13:14:12.923248Z"
    }
   },
   "outputs": [
    {
     "data": {
      "text/plain": [
       "[(0, 0), (0, 1), (0, 3), (1, 0), (1, 1), (1, 2), (1, 9), (1, 10)]"
      ]
     },
     "execution_count": 15,
     "metadata": {},
     "output_type": "execute_result"
    }
   ],
   "source": [
    "get_index_map(possible_test)"
   ]
  },
  {
   "cell_type": "code",
   "execution_count": 16,
   "metadata": {
    "ExecuteTime": {
     "end_time": "2021-02-25T13:14:12.998246Z",
     "start_time": "2021-02-25T13:14:12.955245Z"
    }
   },
   "outputs": [
    {
     "data": {
      "text/plain": [
       "[array([0.47631347, 0.5178144 , 0.82309863, 0.73222503, 0.06905627,\n",
       "        0.67212894, 0.64348481, 0.82801437]),\n",
       " array([0.20446939, 0.61748895, 0.61770101, 0.30106862, 0.87174059,\n",
       "        0.58965408, 0.98177009, 0.44223223, 0.12631769, 0.5088309 ,\n",
       "        0.43178618, 0.91593956])]"
      ]
     },
     "execution_count": 16,
     "metadata": {},
     "output_type": "execute_result"
    }
   ],
   "source": [
    "# Sanity check.\n",
    "test_q_table_entry = [np.random.rand(8), np.random.rand(12)]\n",
    "test_q_table_entry"
   ]
  },
  {
   "cell_type": "code",
   "execution_count": 17,
   "metadata": {
    "ExecuteTime": {
     "end_time": "2021-02-25T13:14:13.030296Z",
     "start_time": "2021-02-25T13:14:13.000249Z"
    }
   },
   "outputs": [
    {
     "data": {
      "text/plain": [
       "{0.4763134735921163: (0, 0),\n",
       " 0.5178144003011741: (0, 1),\n",
       " 0.7322250269389908: (0, 3),\n",
       " 0.2044693943548337: (1, 0),\n",
       " 0.6174889534311008: (1, 1),\n",
       " 0.617701012022227: (1, 2),\n",
       " 0.5088309005478943: (1, 9),\n",
       " 0.43178618379768785: (1, 10)}"
      ]
     },
     "execution_count": 17,
     "metadata": {},
     "output_type": "execute_result"
    }
   ],
   "source": [
    "# Get only q-values from possible moves.\n",
    "choices_dct = dict(\n",
    "        zip([test_q_table_entry[i][j] \n",
    "             for i, j in get_index_map(possible_test)],\n",
    "            get_index_map(possible_test)\n",
    "           )\n",
    "       )\n",
    "\n",
    "choices_dct"
   ]
  },
  {
   "cell_type": "code",
   "execution_count": 18,
   "metadata": {
    "ExecuteTime": {
     "end_time": "2021-02-25T13:14:13.062310Z",
     "start_time": "2021-02-25T13:14:13.033245Z"
    }
   },
   "outputs": [],
   "source": [
    "decision_index = choices_dct[max(choices_dct.keys())]"
   ]
  },
  {
   "cell_type": "code",
   "execution_count": 19,
   "metadata": {
    "ExecuteTime": {
     "end_time": "2021-02-25T13:14:13.094245Z",
     "start_time": "2021-02-25T13:14:13.064247Z"
    }
   },
   "outputs": [
    {
     "data": {
      "text/plain": [
       "('K', (0, -1))"
      ]
     },
     "execution_count": 19,
     "metadata": {},
     "output_type": "execute_result"
    }
   ],
   "source": [
    "('K' if decision_index[0] == 0 else 'R', \n",
    " Q_TABLE_HEADER[decision_index[0]][decision_index[1]])"
   ]
  },
  {
   "cell_type": "markdown",
   "metadata": {},
   "source": [
    "***That's it! now we just functionalize that.***"
   ]
  },
  {
   "cell_type": "code",
   "execution_count": 20,
   "metadata": {
    "ExecuteTime": {
     "end_time": "2021-02-25T13:14:13.126247Z",
     "start_time": "2021-02-25T13:14:13.096243Z"
    }
   },
   "outputs": [],
   "source": [
    "def get_optimal_action(possible_moves, \n",
    "                       q_table_entry, \n",
    "                       Q_TABLE_HEADER=Q_TABLE_HEADER):\n",
    "    \"\"\"\n",
    "    Returns a tuple of (`piece`, (`action`)) based on the highest_q_value.\n",
    "    \"\"\"\n",
    "    \n",
    "    idx_map = get_index_map(possible_moves)\n",
    "    \n",
    "    # Get only q-values from possible moves.\n",
    "    choices_dct = dict(\n",
    "        zip([q_table_entry[i][j] for i, j in idx_map], idx_map)\n",
    "    )\n",
    "    \n",
    "    # Pick the option with the highest q-value.\n",
    "    decision_index = choices_dct[max(choices_dct.keys())]\n",
    "    \n",
    "    return ('K' if decision_index[0] == 0 else 'R', \n",
    "            Q_TABLE_HEADER[decision_index[0]][decision_index[1]])"
   ]
  },
  {
   "cell_type": "code",
   "execution_count": 21,
   "metadata": {
    "ExecuteTime": {
     "end_time": "2021-02-25T13:14:13.173556Z",
     "start_time": "2021-02-25T13:14:13.128247Z"
    }
   },
   "outputs": [],
   "source": [
    "def get_random_action(possible_moves,\n",
    "                      Q_TABLE_HEADER=Q_TABLE_HEADER):\n",
    "    \"\"\"\n",
    "    Returns a tuple of (`piece`, (`action`)) randomly.\n",
    "    \"\"\"\n",
    "    \n",
    "    idx_map = get_index_map(possible_moves)\n",
    "    \n",
    "    # Pick randomly from possible moves.\n",
    "    decision_index = idx_map[np.random.randint(len(idx_map))]\n",
    "    \n",
    "    return ('K' if decision_index[0] == 0 else 'R', \n",
    "            Q_TABLE_HEADER[decision_index[0]][decision_index[1]])"
   ]
  },
  {
   "cell_type": "code",
   "execution_count": 22,
   "metadata": {
    "ExecuteTime": {
     "end_time": "2021-02-25T13:14:13.205291Z",
     "start_time": "2021-02-25T13:14:13.176245Z"
    }
   },
   "outputs": [
    {
     "data": {
      "text/plain": [
       "('K', (0, -1))"
      ]
     },
     "execution_count": 22,
     "metadata": {},
     "output_type": "execute_result"
    }
   ],
   "source": [
    "get_optimal_action(possible_test, test_q_table_entry)"
   ]
  },
  {
   "cell_type": "code",
   "execution_count": 23,
   "metadata": {
    "ExecuteTime": {
     "end_time": "2021-02-25T13:14:13.237246Z",
     "start_time": "2021-02-25T13:14:13.210248Z"
    }
   },
   "outputs": [
    {
     "data": {
      "text/plain": [
       "('R', (-3, 0))"
      ]
     },
     "execution_count": 23,
     "metadata": {},
     "output_type": "execute_result"
    }
   ],
   "source": [
    "get_random_action(possible_test)"
   ]
  },
  {
   "cell_type": "markdown",
   "metadata": {},
   "source": [
    "***Great! Now we have a way of addressing the environment.***"
   ]
  },
  {
   "cell_type": "markdown",
   "metadata": {},
   "source": [
    "# Creating q-table"
   ]
  },
  {
   "cell_type": "code",
   "execution_count": 24,
   "metadata": {
    "ExecuteTime": {
     "end_time": "2021-02-25T13:14:13.268244Z",
     "start_time": "2021-02-25T13:14:13.242247Z"
    }
   },
   "outputs": [],
   "source": [
    "# Create q-table.\n",
    "def create_randomized_q_table():\n",
    "    POSSIBLE_LOCATIONS = [(-1, -1)] + [(x, y) \n",
    "                                       for x in range(4) \n",
    "                                       for y in range(4)]\n",
    "    # (-1, -1) is the location for a piece that is missing from the board.\n",
    "    \n",
    "    q_table = {}\n",
    "\n",
    "    for x in POSSIBLE_LOCATIONS:\n",
    "        for y in POSSIBLE_LOCATIONS:\n",
    "            for z in POSSIBLE_LOCATIONS:\n",
    "                if (x != y) & (x != z) & (y != z):\n",
    "                    q_table[(x, y, z)] = [\n",
    "                        [np.random.uniform(-1, 0) for _ in range(8)], # King\n",
    "                        [np.random.uniform(-1, 0) for _ in range(12)] # Rook\n",
    "                    ]\n",
    "    return q_table"
   ]
  },
  {
   "cell_type": "code",
   "execution_count": 25,
   "metadata": {
    "ExecuteTime": {
     "end_time": "2021-02-25T13:14:13.523595Z",
     "start_time": "2021-02-25T13:14:13.271245Z"
    }
   },
   "outputs": [],
   "source": [
    "Q_TABLE = create_randomized_q_table()"
   ]
  },
  {
   "cell_type": "code",
   "execution_count": 26,
   "metadata": {
    "ExecuteTime": {
     "end_time": "2021-02-25T13:14:13.539787Z",
     "start_time": "2021-02-25T13:14:13.525606Z"
    }
   },
   "outputs": [
    {
     "data": {
      "text/plain": [
       "[[-0.06273279377135843,\n",
       "  -0.09865106286685266,\n",
       "  -0.3082115802813006,\n",
       "  -0.8061079123381085,\n",
       "  -0.9993281411361781,\n",
       "  -0.6656684805404836,\n",
       "  -0.8365846829096015,\n",
       "  -0.6227532229061851],\n",
       " [-0.3801368898908636,\n",
       "  -0.4803587135565365,\n",
       "  -0.23380381131913008,\n",
       "  -0.8184052204028717,\n",
       "  -0.4849765108541916,\n",
       "  -0.7258824111696006,\n",
       "  -0.31987417320029854,\n",
       "  -0.8982231255653106,\n",
       "  -0.7272343224235234,\n",
       "  -0.6207148776725107,\n",
       "  -0.6150553755399191,\n",
       "  -0.8469412074824321]]"
      ]
     },
     "execution_count": 26,
     "metadata": {},
     "output_type": "execute_result"
    }
   ],
   "source": [
    "game = set_up_new_game()\n",
    "Q_TABLE[game.get_game_state()]"
   ]
  },
  {
   "cell_type": "code",
   "execution_count": 27,
   "metadata": {
    "ExecuteTime": {
     "end_time": "2021-02-25T13:14:13.571609Z",
     "start_time": "2021-02-25T13:14:13.541606Z"
    }
   },
   "outputs": [
    {
     "data": {
      "text/plain": [
       "4080"
      ]
     },
     "execution_count": 27,
     "metadata": {},
     "output_type": "execute_result"
    }
   ],
   "source": [
    "len(Q_TABLE)"
   ]
  },
  {
   "cell_type": "code",
   "execution_count": 28,
   "metadata": {
    "ExecuteTime": {
     "end_time": "2021-02-25T13:14:13.602610Z",
     "start_time": "2021-02-25T13:14:13.573607Z"
    }
   },
   "outputs": [],
   "source": [
    "def calculate_q_val(\n",
    "    learning_rate,\n",
    "    current_q_val,\n",
    "    reward,\n",
    "    discount,\n",
    "    max_future_q):\n",
    "    \"\"\"https://en.wikipedia.org/wiki/Q-learning\"\"\"\n",
    "    \n",
    "    temporal_difference = (reward + discount * max_future_q)\n",
    "    return (1 - learning_rate) * current_q_val + learning_rate * \\\n",
    "            temporal_difference"
   ]
  },
  {
   "cell_type": "markdown",
   "metadata": {},
   "source": [
    "# Let the training begin!"
   ]
  },
  {
   "cell_type": "code",
   "execution_count": 29,
   "metadata": {
    "ExecuteTime": {
     "end_time": "2021-02-25T13:14:13.649945Z",
     "start_time": "2021-02-25T13:14:13.604609Z"
    }
   },
   "outputs": [],
   "source": [
    "# Set constants.\n",
    "STEP_REWARD = -1\n",
    "STALEMATE_REWARD = -50\n",
    "CHECKMATE_REWARD = 50\n",
    "\n",
    "TRAINING_EPISODES = 50_000\n",
    "EPSILON = 1\n",
    "START_DECAY = 10_000\n",
    "END_DECAY = 40_000\n",
    "DECAY_VALUE = EPSILON / (END_DECAY - START_DECAY)\n",
    "\n",
    "LEARNING_RATE = 0.1\n",
    "DISCOUNT = 0.95\n",
    "\n",
    "SHOW_EVERY = 500"
   ]
  },
  {
   "cell_type": "code",
   "execution_count": 30,
   "metadata": {
    "ExecuteTime": {
     "end_time": "2021-02-25T14:03:25.882012Z",
     "start_time": "2021-02-25T13:14:13.652605Z"
    }
   },
   "outputs": [
    {
     "name": "stdout",
     "output_type": "stream",
     "text": [
      " R  .  .  k \n",
      " .  .  .  . \n",
      " .  .  K  . \n",
      " .  .  .  . \n",
      "\n"
     ]
    }
   ],
   "source": [
    "episode_rewards_lst = []\n",
    "\n",
    "for episode in range(1, TRAINING_EPISODES+1):\n",
    "    clear_output(wait=True)\n",
    "    print(f'***EPISODE {episode}***')\n",
    "    game = set_up_new_game()\n",
    "    \n",
    "    if episode % SHOW_EVERY == 0:\n",
    "        show = True\n",
    "    else:\n",
    "        show = False\n",
    "        \n",
    "    episode_reward = 0\n",
    "    for turn in range(50):\n",
    "        GAME_OVER = False\n",
    "        current_state = game.get_game_state()\n",
    "        possible_moves = game.possible_moves_for('w')\n",
    "        \n",
    "        # Check if we're exploring or exploiting.\n",
    "        if np.random.rand() > EPSILON:\n",
    "            piece_code, move = get_optimal_action(possible_moves, \n",
    "                                                  Q_TABLE[current_state])\n",
    "        else:\n",
    "            # Random move!\n",
    "            piece_code, move = get_random_action(possible_moves)\n",
    "            \n",
    "        # Interpret the move.\n",
    "        piece_type = King if piece_code == 'K' else Rook\n",
    "        piece = [p for p in game.player.pieces \n",
    "                 if isinstance(p, piece_type)][0] # Get the piece.\n",
    "        \n",
    "        # Make the move!\n",
    "        game.move(piece, move)\n",
    "        \n",
    "        # Check the rewards based on the game state.\n",
    "        if game.is_stalemate():\n",
    "            reward = STALEMATE_REWARD\n",
    "            GAME_OVER = True\n",
    "        elif game.is_checkmate():\n",
    "            reward = CHECKMATE_REWARD\n",
    "            GAME_OVER = True\n",
    "        elif len(game.player.pieces) == 1 and len(game.computer.pieces) == 1:\n",
    "            # King vs King == `Stalemate`\n",
    "            reward = STALEMATE_REWARD\n",
    "            GAME_OVER = True\n",
    "        else:\n",
    "            reward = STEP_REWARD\n",
    "            \n",
    "        # Get q-values to calulate from.\n",
    "        new_state = game.get_game_state()\n",
    "        max_future_q = max([v for lst in Q_TABLE[new_state] for v in lst])\n",
    "        current_q = max([v for lst in Q_TABLE[current_state] for v in lst])\n",
    "        \n",
    "        if reward == CHECKMATE_REWARD:\n",
    "            new_q = CHECKMATE_REWARD\n",
    "        else:\n",
    "            new_q = calculate_q_val(\n",
    "                LEARNING_RATE, \n",
    "                current_q, \n",
    "                reward, \n",
    "                DISCOUNT, \n",
    "                max_future_q\n",
    "            )\n",
    "        \n",
    "        # Get the working index for Q_TABLE[current_state].\n",
    "        if piece_code == 'K':\n",
    "            dct = {\n",
    "                (-1, -1): 0, \n",
    "                (-1, 0): 1, \n",
    "                (-1, 1): 2, \n",
    "                (0, -1): 3, \n",
    "                (0, 1): 4, \n",
    "                (1, -1): 5, \n",
    "                (1, 0): 6, \n",
    "                (1, 1): 7\n",
    "            }\n",
    "            Q_TABLE[current_state][0][dct[move]] = new_q\n",
    "        elif piece_code == 'R':\n",
    "            dct = {\n",
    "                (-3, 0): 0,\n",
    "                (-2, 0): 1,\n",
    "                (-1, 0): 2,\n",
    "                (1, 0): 3,\n",
    "                (2, 0): 4,\n",
    "                (3, 0): 5,\n",
    "                (0, -3): 6,\n",
    "                (0, -2): 7,\n",
    "                (0, -1): 8,\n",
    "                (0, 1): 9,\n",
    "                (0, 2): 10,\n",
    "                (0, 3): 11\n",
    "            }\n",
    "            Q_TABLE[current_state][1][dct[move]] = new_q\n",
    "            \n",
    "        if show:\n",
    "            clear_output(wait=True)\n",
    "            print(game.board)\n",
    "            time.sleep(0.25)\n",
    "            \n",
    "        episode_reward += reward\n",
    "        if GAME_OVER:\n",
    "            break\n",
    "        \n",
    "        # Opponent makes a random move.\n",
    "        enemy_king = game.computer.pieces[0]\n",
    "        random_move = enemy_king.possible_legal(game)[\n",
    "            np.random.randint(len(enemy_king.possible_legal(game)))\n",
    "        ]\n",
    "        game.move(enemy_king, random_move)\n",
    "        \n",
    "        if show:\n",
    "            clear_output(wait=True)\n",
    "            print(game.board)\n",
    "            time.sleep(0.25)\n",
    "            \n",
    "    # Cleanup\n",
    "    episode_rewards_lst.append(episode_reward)\n",
    "    if END_DECAY >= episode >= START_DECAY:\n",
    "        EPSILON -= DECAY_VALUE"
   ]
  },
  {
   "cell_type": "markdown",
   "metadata": {},
   "source": [
    "***Notes from watching training episodes.***\n",
    "- One important note is that the computer always moves randomly which sometimes does a disservice to the agent (ie: if the agent makes a bad move, the agent isn't always punished to the maximum and won't learn the scale of the mistake).\n",
    "***\n",
    "- By training episode 20,000, the agent began finding the best checkmate: 3-moves.\n",
    "- Around episode 22,000, white stopped dropping it's rook.\n",
    "- Around episode 25,000, the black king is kept on the back rank."
   ]
  },
  {
   "cell_type": "code",
   "execution_count": 31,
   "metadata": {
    "ExecuteTime": {
     "end_time": "2021-02-25T14:03:25.991908Z",
     "start_time": "2021-02-25T14:03:25.884546Z"
    }
   },
   "outputs": [],
   "source": [
    "# Save training data.\n",
    "df = pd.DataFrame(episode_rewards_lst)\n",
    "df.to_csv('./data/training_results.csv')"
   ]
  },
  {
   "cell_type": "code",
   "execution_count": 32,
   "metadata": {
    "ExecuteTime": {
     "end_time": "2021-02-25T14:03:26.624597Z",
     "start_time": "2021-02-25T14:03:25.993609Z"
    }
   },
   "outputs": [
    {
     "data": {
      "image/png": "[encoded data removed]",
      "text/plain": [
       "<Figure size 748.8x514.8 with 1 Axes>"
      ]
     },
     "metadata": {},
     "output_type": "display_data"
    }
   ],
   "source": [
    "fig, ax = plt.subplots()\n",
    "ax.scatter(x=range(1, TRAINING_EPISODES+1), y=episode_rewards_lst)\n",
    "ax.set(\n",
    "    title='Score per Training Game\\n{Checkmate: +50, Stalemate: -50, King vs King: -50, Move: -1}',\n",
    "    xlabel='Training Episode (Game #)',\n",
    "    ylabel='Score'\n",
    ")\n",
    "fig.tight_layout()"
   ]
  },
  {
   "cell_type": "code",
   "execution_count": null,
   "metadata": {},
   "outputs": [],
   "source": []
  }
 ],
 "metadata": {
  "kernelspec": {
   "display_name": "Python [conda env:learn-env] *",
   "language": "python",
   "name": "conda-env-learn-env-py"
  },
  "language_info": {
   "codemirror_mode": {
    "name": "ipython",
    "version": 3
   },
   "file_extension": ".py",
   "mimetype": "text/x-python",
   "name": "python",
   "nbconvert_exporter": "python",
   "pygments_lexer": "ipython3",
   "version": "3.6.9"
  },
  "toc": {
   "base_numbering": 1,
   "nav_menu": {},
   "number_sections": true,
   "sideBar": true,
   "skip_h1_title": false,
   "title_cell": "Table of Contents",
   "title_sidebar": "Contents",
   "toc_cell": false,
   "toc_position": {
    "height": "calc(100% - 180px)",
    "left": "10px",
    "top": "150px",
    "width": "361px"
   },
   "toc_section_display": true,
   "toc_window_display": true
  }
 },
 "nbformat": 4,
 "nbformat_minor": 2
}
