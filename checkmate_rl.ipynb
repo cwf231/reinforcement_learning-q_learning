{
 "cells": [
  {
   "cell_type": "markdown",
   "metadata": {},
   "source": [
    "# Using RL to learn to Checkmate\n",
    "\n",
    "This will be much more in depth: using a much larger environment (based on the number of moves there are at any given time). We're still going to use the techniques discussed: game-states, movement, and a q-table.\n",
    "\n",
    "***In order to make the q-table a reasonable size, we are going to use a 4x4 board instead of 8x8 since every piece location combination needs to be recorded.***\n",
    "\n",
    "\n",
    "First off, we need to code in the Chess aspect. Since we are making an abbreviated game of chess (with limited pieces), we'll make our game set only have the pieces we want to use. This can later be expanded.\n",
    "- Board\n",
    "  - 8x8 matrix\n",
    "- King\n",
    "  - Possible moves: One space in any direction (horizontal / diagonal)\n",
    "- Rook\n",
    "  - Possible moves: 1-3 spaces in each horizontal direction (N-S-E-W)\n",
    "  \n",
    "Rules:\n",
    "- Check\n",
    "  - The king is being attacked.\n",
    "- Checkmate\n",
    "  - End of the game.\n",
    "  \n",
    "***\n",
    "\n",
    "*In each game position, the agent will make either a king move or a rook move. Since some of those moves will be illegal (the piece would end up in check, or off the board, or going through another piece!), there will need to be some sort of mask which prohibits the agent from choosing these.*"
   ]
  },
  {
   "cell_type": "code",
   "execution_count": 26,
   "metadata": {
    "ExecuteTime": {
     "end_time": "2021-02-24T01:29:49.025525Z",
     "start_time": "2021-02-24T01:29:49.013526Z"
    }
   },
   "outputs": [],
   "source": [
    "import numpy as np\n",
    "import matplotlib.pyplot as plt"
   ]
  },
  {
   "cell_type": "code",
   "execution_count": 27,
   "metadata": {
    "ExecuteTime": {
     "end_time": "2021-02-24T01:29:49.041090Z",
     "start_time": "2021-02-24T01:29:49.027525Z"
    }
   },
   "outputs": [],
   "source": [
    "np.random.seed(2021)\n",
    "plt.style.use(['ggplot', 'seaborn-talk'])"
   ]
  },
  {
   "cell_type": "code",
   "execution_count": 28,
   "metadata": {
    "ExecuteTime": {
     "end_time": "2021-02-24T01:29:49.104040Z",
     "start_time": "2021-02-24T01:29:49.044046Z"
    }
   },
   "outputs": [],
   "source": [
    "class Board:\n",
    "    def __init__(self, setup_with=list(), n_squares=4):\n",
    "        self.n_squares = n_squares\n",
    "        self.board = np.zeros((self.n_squares, self.n_squares), dtype='object')\n",
    "        for p in setup_with:\n",
    "            self.board[tuple(p.position)] = p\n",
    "        \n",
    "    def __str__(self):\n",
    "        for x in range(self.n_squares):\n",
    "            for y in range(self.n_squares):\n",
    "                if self.board[(x, y)]:\n",
    "                    print(f' {self.board[(x, y)]} ', end='')\n",
    "                else:\n",
    "                    print(' . ', end='')\n",
    "            print()\n",
    "        return ''\n",
    "    \n",
    "    def __repr__(self):\n",
    "        self.__str__()\n",
    "        return ''\n",
    "    \n",
    "    def in_bounds(self, coord):\n",
    "        y, x = coord\n",
    "        if (x < 0) | (x >= self.n_squares) | (y < 0) | (y >= self.n_squares):\n",
    "            return False\n",
    "        return True\n",
    "    \n",
    "    def is_occupied(self, coord):\n",
    "        if self.board[coord]:\n",
    "            return True\n",
    "        return False\n",
    "        \n",
    "        \n",
    "class Piece:\n",
    "    def __init__(self, position, is_white: bool):\n",
    "        \"\"\"Position can be coordinates `(inv(y), x)` or string (`e4`).\"\"\"\n",
    "        if isinstance(position, str):\n",
    "            self.position = self.__interpret_position_string(position)\n",
    "        else:\n",
    "            self.position = np.array(position)\n",
    "        self.is_white = is_white\n",
    "        \n",
    "    def __interpret_position_string(self, s):\n",
    "        \"\"\"\n",
    "        Board positions like `e4` or `f6`. \n",
    "        Converted to coordinates (y, x):\n",
    "        \n",
    "        'a8' -> (0, 0)\n",
    "        'a1' -> (7, 0)\n",
    "        'h1' -> (7, 7)\n",
    "        \"\"\"\n",
    "        \n",
    "        file_dct = {\n",
    "            'a': 0,\n",
    "            'b': 1,\n",
    "            'c': 2,\n",
    "            'd': 3\n",
    "        }\n",
    "        return np.array([4-int(s[1]), file_dct[s[0]]])\n",
    "        \n",
    "class King(Piece):\n",
    "    def __init__(self, position, is_white):\n",
    "        super().__init__(position, is_white)\n",
    "        \n",
    "    def __str__(self):\n",
    "        if self.is_white:\n",
    "            return 'K'\n",
    "        return 'k'\n",
    "    \n",
    "    def __repr__(self):\n",
    "        return self.__str__()\n",
    "    \n",
    "    def all_possible_moves(self):\n",
    "        # Moves one space any direction.\n",
    "        movements = [np.array([x, y]) \n",
    "                     for x in range(-1, 1+1) \n",
    "                     for y in range(-1, 1+1)]\n",
    "        \n",
    "        # Remove standing still\n",
    "        movements = [m for m in movements if not all(m == np.array([0, 0]))]\n",
    "        return np.array(movements)\n",
    "    \n",
    "    def possible_legal(self, game):\n",
    "        enemy_king = [p for p in game.player.pieces + game.computer.pieces\n",
    "                      if isinstance(p, King) and p != self][0]\n",
    "        adj_to_enemy_king = [tuple(enemy_king.position + n) \n",
    "                             for n in enemy_king.all_possible_moves()]\n",
    "        return [tuple(m) for m in self.all_possible_moves()\n",
    "                if game.board.in_bounds(tuple(self.position + m))\n",
    "                and not game.board.is_occupied(tuple(self.position + m))\n",
    "                and tuple(self.position + m) not in adj_to_enemy_king]\n",
    "    \n",
    "    def controls(self, game):\n",
    "        return [tuple(m) for m in self.all_possible_moves()\n",
    "                if game.board.in_bounds(tuple(self.position + m))]\n",
    "    \n",
    "    \n",
    "class Rook(Piece):\n",
    "    def __init__(self, position, is_white):\n",
    "        super().__init__(position, is_white)\n",
    "        \n",
    "    def __str__(self):\n",
    "        if self.is_white:\n",
    "            return 'R'\n",
    "        return 'r'\n",
    "    \n",
    "    def __repr__(self):\n",
    "        return self.__str__()\n",
    "    \n",
    "    def all_possible_moves(self):\n",
    "        # Moves up to 3 spaces in all directions (n-e-s-w)\n",
    "        movements = [np.array([y, 0]) for y in range(-3, 3+1)] + \\\n",
    "                    [np.array([0, x]) for x in range(-3, 3+1)]\n",
    "        \n",
    "        # Remove standing still.\n",
    "        movements = [m for m in movements if not all(m == np.array([0, 0]))]\n",
    "        return np.array(movements)\n",
    "    \n",
    "    def possible_legal(self, game):\n",
    "        white_king_sq, white_rook_sq, black_king_sq = game.get_game_state()\n",
    "        possible_moves = []\n",
    "        for i in range(-1, -4, -1):\n",
    "            new_square = tuple(self.position + (i, 0))\n",
    "            if new_square == black_king_sq:\n",
    "                possible_moves.append((i, 0))\n",
    "                break\n",
    "            elif new_square == white_king_sq:\n",
    "                break\n",
    "            possible_moves.append((i, 0))\n",
    "        for i in range(-1, -4, -1):\n",
    "            new_square = tuple(self.position + (0, i))\n",
    "            if new_square == black_king_sq:\n",
    "                possible_moves.append((i, 0))\n",
    "                break\n",
    "            elif new_square == white_king_sq:\n",
    "                break\n",
    "            possible_moves.append((0, i))\n",
    "\n",
    "        for i in range(1, 4):\n",
    "            new_square = tuple(self.position + (i, 0))\n",
    "            if new_square == black_king_sq:\n",
    "                possible_moves.append((i, 0))\n",
    "                break\n",
    "            elif new_square == white_king_sq:\n",
    "                break\n",
    "            possible_moves.append((i, 0))\n",
    "        for i in range(1, 4):\n",
    "            new_square = tuple(self.position + (0, i))\n",
    "            if new_square == black_king_sq:\n",
    "                possible_moves.append((0, i))\n",
    "                break\n",
    "            elif new_square == white_king_sq:\n",
    "                break\n",
    "            possible_moves.append((0, i))\n",
    "            \n",
    "        return [m for m in possible_moves if \n",
    "                game.board.in_bounds(tuple(self.position + m))]\n",
    "    \n",
    "    def controls(self, game):\n",
    "        return self.possible_legal(game)\n",
    "    \n",
    "    \n",
    "class Player:\n",
    "    def __init__(self, pieces=list()):\n",
    "        self.pieces = pieces\n",
    "        \n",
    "        \n",
    "class Game:\n",
    "    def __init__(self, white_pieces: list, black_pieces: list, board_size=4):\n",
    "        self.player = Player(white_pieces)\n",
    "        self.computer = Player(black_pieces)\n",
    "        self.board = Board(self.player.pieces + self.computer.pieces, \n",
    "                           board_size)\n",
    "        \n",
    "    def get_game_state(self):\n",
    "        \"\"\"\n",
    "        Return piece positions. \n",
    "            (w-king, w-rook, b-king)\n",
    "        \"\"\"\n",
    "        \n",
    "        pieces_dct = {\n",
    "            'w-king': None,\n",
    "            'w-rook': None,\n",
    "            'b-king': self.computer.pieces[0].position\n",
    "        }\n",
    "        \n",
    "        if isinstance(self.player.pieces[0], King):\n",
    "            pieces_dct['w-king'] = self.player.pieces[0].position\n",
    "            pieces_dct['w-rook'] = self.player.pieces[1].position\n",
    "        else:\n",
    "            pieces_dct['w-king'] = self.player.pieces[1].position\n",
    "            pieces_dct['w-rook'] = self.player.pieces[0].position\n",
    "        return (tuple(pieces_dct.get('w-king', (0, 0))), \n",
    "                tuple(pieces_dct.get('w-rook', (0, 0))), \n",
    "                tuple(pieces_dct.get('b-king', (0, 0))))\n",
    "    \n",
    "    def controlled_by(self, color: str):\n",
    "        \"\"\"\n",
    "        Squares (coordinates) that `color`-player controls.\n",
    "        `color` can be one of ('w', 'b', 'white', 'black')\n",
    "        \"\"\"\n",
    "        \n",
    "        if color.lower() in ('w', 'white'):\n",
    "            side = self.player\n",
    "        elif color.lower() in ('b', 'black'):\n",
    "            side = self.computer\n",
    "            \n",
    "        all_possible = []\n",
    "        for p in side.pieces:\n",
    "            all_possible += [tuple(p.position + a) \n",
    "                             for a in p.controls(self)]\n",
    "            \n",
    "        return set([coord for coord in all_possible \n",
    "                    if self.board.in_bounds(coord)])\n",
    "    \n",
    "    def move(self, piece, action):\n",
    "        starting_coord = piece.position\n",
    "        ending_coord = tuple(starting_coord + action)\n",
    "        self.board.board[starting_coord] = None\n",
    "        self.board.board[ending_coord] = piece\n",
    "        piece.position = np.array(ending_coord)\n",
    "        \n",
    "    \n",
    "    def __nowhere_to_run(self):\n",
    "        \"\"\"Returns if the black king has no legal movement squares.\"\"\"\n",
    "        king = self.computer.pieces[0]\n",
    "        king_possible = set(\n",
    "            [tuple(king.position + a) for a in king.possible_legal(self)\n",
    "             if self.board.in_bounds(tuple(king.position + a))])\n",
    "        white_controlled = self.controlled_by('w')\n",
    "        if not king_possible - white_controlled:\n",
    "            return True\n",
    "        return False\n",
    "    \n",
    "    def __nowhere_to_hide(self):\n",
    "        \"\"\"\n",
    "        Returns if the black king is standing on a square controlled by \n",
    "        the opponent.\n",
    "        \"\"\"\n",
    "        king = self.computer.pieces[0]\n",
    "        return tuple(king.position) in self.controlled_by('w')\n",
    "    \n",
    "    def is_stalemate(self):\n",
    "        \"\"\"Returns bool if the board state is stalemate.\"\"\"\n",
    "        return self.__nowhere_to_run() and not self.__nowhere_to_hide()\n",
    "    \n",
    "    def is_checkmate(self):\n",
    "        \"\"\"Returns bool if the board state is checkmate.\"\"\"\n",
    "        return self.__nowhere_to_run() and self.__nowhere_to_hide()\n",
    "    \n",
    "    \n",
    "def convert_coord_to_square(coord):\n",
    "    \"\"\"Returns the string (eg: `a1`) based on a coordinate.\"\"\"\n",
    "    rank, file = coord\n",
    "    file_dct = {\n",
    "        0: 'a',\n",
    "        1: 'b',\n",
    "        2: 'c',\n",
    "        3: 'd'\n",
    "    }\n",
    "    return str(file_dct[file]) + str(4 - rank)"
   ]
  },
  {
   "cell_type": "code",
   "execution_count": 29,
   "metadata": {
    "ExecuteTime": {
     "end_time": "2021-02-24T01:29:49.120057Z",
     "start_time": "2021-02-24T01:29:49.106044Z"
    }
   },
   "outputs": [
    {
     "name": "stdout",
     "output_type": "stream",
     "text": [
      "*GAME BOARD*\n",
      "************\n",
      " R  .  .  k \n",
      " .  .  .  . \n",
      " .  .  .  . \n",
      " .  .  K  . \n",
      "\n",
      "K\n",
      "Legal Moves:\n",
      "[(-1, -1), (-1, 0), (-1, 1), (0, -1), (0, 1)]\n",
      "\n",
      "R\n",
      "Legal Moves:\n",
      "[(1, 0), (2, 0), (3, 0), (0, 1), (0, 2), (0, 3)]\n",
      "\n",
      "Controlled by white: {(0, 1), (3, 3), (3, 0), (3, 1), (2, 1), (2, 0), (2, 3), (2, 2), (1, 0), (0, 2), (0, 3)}\n"
     ]
    }
   ],
   "source": [
    "game = Game(\n",
    "    white_pieces=[King('c1', 1), Rook('a4', 1)],\n",
    "    black_pieces=[King('d4', 0)],\n",
    "    board_size=4\n",
    ")\n",
    "print('*GAME BOARD*')\n",
    "print('************')\n",
    "print(game.board)\n",
    "for p in game.player.pieces:\n",
    "    print(p)\n",
    "    print('Legal Moves:')\n",
    "    print(p.possible_legal(game))\n",
    "    print()\n",
    "print('Controlled by white:', game.controlled_by('w'))"
   ]
  },
  {
   "cell_type": "code",
   "execution_count": 30,
   "metadata": {
    "ExecuteTime": {
     "end_time": "2021-02-24T01:29:49.152042Z",
     "start_time": "2021-02-24T01:29:49.122041Z"
    }
   },
   "outputs": [
    {
     "name": "stdout",
     "output_type": "stream",
     "text": [
      " R  .  .  k \n",
      " .  .  .  . \n",
      " .  K  .  . \n",
      " .  .  .  . \n"
     ]
    },
    {
     "data": {
      "text/plain": []
     },
     "execution_count": 30,
     "metadata": {},
     "output_type": "execute_result"
    }
   ],
   "source": [
    "game.move(game.player.pieces[0], (-1,-1))\n",
    "game.board"
   ]
  },
  {
   "cell_type": "code",
   "execution_count": 31,
   "metadata": {
    "ExecuteTime": {
     "end_time": "2021-02-24T01:29:49.168045Z",
     "start_time": "2021-02-24T01:29:49.154043Z"
    }
   },
   "outputs": [
    {
     "name": "stdout",
     "output_type": "stream",
     "text": [
      " R  .  .  k \n",
      " K  .  .  . \n",
      " .  .  .  . \n",
      " .  .  .  . \n"
     ]
    },
    {
     "data": {
      "text/plain": []
     },
     "execution_count": 31,
     "metadata": {},
     "output_type": "execute_result"
    }
   ],
   "source": [
    "game.move(game.player.pieces[0], (-1,-1))\n",
    "game.board"
   ]
  },
  {
   "cell_type": "code",
   "execution_count": 32,
   "metadata": {
    "ExecuteTime": {
     "end_time": "2021-02-24T01:29:49.200042Z",
     "start_time": "2021-02-24T01:29:49.171044Z"
    }
   },
   "outputs": [
    {
     "name": "stdout",
     "output_type": "stream",
     "text": [
      " .  .  .  . \n",
      " .  .  .  . \n",
      " K  .  .  . \n",
      " .  .  .  . \n"
     ]
    },
    {
     "data": {
      "text/plain": []
     },
     "execution_count": 32,
     "metadata": {},
     "output_type": "execute_result"
    }
   ],
   "source": [
    "game.move(game.player.pieces[0], (1, 0))\n",
    "game.board"
   ]
  },
  {
   "cell_type": "markdown",
   "metadata": {},
   "source": [
    "***The q-table lookup will need a mapping to the pieces and the movements. The actions will look like this:***\n",
    "```\n",
    "possible_movements: {\n",
    "    0:  ``K(-1, -1)``,\n",
    "    1:  ``K(-1,  0)``,\n",
    "    2:  ``K(-1,  1)``,\n",
    "    3:  ``K( 0, -1)``,\n",
    "    4:  ``K( 0,  1)``,\n",
    "    5:  ``K( 1, -1)``,\n",
    "    6:  ``K( 1,  0)``,\n",
    "    7:  ``K( 1,  1)``,\n",
    "    \n",
    "    8:  ``R(-3,  0)``,\n",
    "    9:  ``R(-2,  0)``,\n",
    "    10: ``R(-1,  0)``,\n",
    "    11: ``R( 1,  0)``,\n",
    "    12: ``R( 2,  0)``,\n",
    "    13: ``R( 3,  0)``,\n",
    "    14: ``R( 0, -3)``,\n",
    "    15: ``R( 0, -2)``,\n",
    "    16: ``R( 0, -1)``,\n",
    "    17: ``R( 0,  1)``,\n",
    "    18: ``R( 0,  2)``,\n",
    "    19: ``R( 0,  3)``\n",
    "}\n",
    "```\n",
    "\n",
    "***The first 8 actions are king moves, the next 12 actions are rook moves.***"
   ]
  },
  {
   "cell_type": "code",
   "execution_count": 5,
   "metadata": {
    "ExecuteTime": {
     "end_time": "2021-02-24T01:21:08.766341Z",
     "start_time": "2021-02-24T01:21:08.748318Z"
    }
   },
   "outputs": [],
   "source": [
    "BOARD_SIZE = 4"
   ]
  },
  {
   "cell_type": "code",
   "execution_count": 6,
   "metadata": {
    "ExecuteTime": {
     "end_time": "2021-02-24T01:21:09.236919Z",
     "start_time": "2021-02-24T01:21:09.221881Z"
    }
   },
   "outputs": [
    {
     "name": "stdout",
     "output_type": "stream",
     "text": [
      " .  .  .  k \n",
      " .  .  .  . \n",
      " .  .  .  . \n",
      " R  .  .  K \n"
     ]
    },
    {
     "data": {
      "text/plain": []
     },
     "execution_count": 6,
     "metadata": {},
     "output_type": "execute_result"
    }
   ],
   "source": [
    "game = Game(\n",
    "    white_pieces=[King('d1', 1), Rook('a1', 1)],\n",
    "    black_pieces=[King('d4', 0)],\n",
    "    board_size=BOARD_SIZE\n",
    ")\n",
    "game.board"
   ]
  },
  {
   "cell_type": "code",
   "execution_count": 7,
   "metadata": {
    "ExecuteTime": {
     "end_time": "2021-02-24T01:21:10.088385Z",
     "start_time": "2021-02-24T01:21:10.076864Z"
    }
   },
   "outputs": [
    {
     "data": {
      "text/plain": [
       "[('a2', (2, 0)),\n",
       " ('a3', (1, 0)),\n",
       " ('a4', (0, 0)),\n",
       " ('b1', (3, 1)),\n",
       " ('c1', (3, 2)),\n",
       " ('c2', (2, 2)),\n",
       " ('d2', (2, 3))]"
      ]
     },
     "execution_count": 7,
     "metadata": {},
     "output_type": "execute_result"
    }
   ],
   "source": [
    "# Show what white controls.\n",
    "sorted(\n",
    "    list(\n",
    "        zip(\n",
    "            [convert_coord_to_square(c) for c in game.controlled_by('w')],\n",
    "            [c for c in game.controlled_by('w')]\n",
    "        )\n",
    "    )\n",
    ")"
   ]
  },
  {
   "cell_type": "code",
   "execution_count": 8,
   "metadata": {
    "ExecuteTime": {
     "end_time": "2021-02-24T01:21:12.300324Z",
     "start_time": "2021-02-24T01:21:12.286310Z"
    }
   },
   "outputs": [
    {
     "name": "stdout",
     "output_type": "stream",
     "text": [
      " .  .  .  k \n",
      " .  .  .  . \n",
      " .  .  .  K \n",
      " .  .  R  . \n",
      "\n",
      "Checkmate:\n",
      "\t False\n",
      "Stalemate:\n",
      "\t True\n"
     ]
    }
   ],
   "source": [
    "# Check stalemate logic.\n",
    "game = Game(\n",
    "    white_pieces=[King('d2', 1), Rook('c1', 1)],\n",
    "    black_pieces=[King('d4', 0)],\n",
    "    board_size=BOARD_SIZE\n",
    ")\n",
    "print(game.board)\n",
    "print('Checkmate:\\n\\t', game.is_checkmate())\n",
    "print('Stalemate:\\n\\t', game.is_stalemate())"
   ]
  },
  {
   "cell_type": "code",
   "execution_count": 9,
   "metadata": {
    "ExecuteTime": {
     "end_time": "2021-02-24T01:21:14.668055Z",
     "start_time": "2021-02-24T01:21:14.643015Z"
    }
   },
   "outputs": [
    {
     "name": "stdout",
     "output_type": "stream",
     "text": [
      " R  .  .  k \n",
      " .  .  .  . \n",
      " .  .  .  K \n",
      " .  .  .  . \n",
      "\n",
      "Checkmate:\n",
      "\t True\n",
      "Stalemate:\n",
      "\t False\n"
     ]
    }
   ],
   "source": [
    "# Check checkmate logic.\n",
    "game = Game(\n",
    "    white_pieces=[King('d2', 1), Rook('a4', 1)],\n",
    "    black_pieces=[King('d4', 0)],\n",
    "    board_size=BOARD_SIZE\n",
    ")\n",
    "print(game.board)\n",
    "print('Checkmate:\\n\\t', game.is_checkmate())\n",
    "print('Stalemate:\\n\\t', game.is_stalemate())"
   ]
  },
  {
   "cell_type": "code",
   "execution_count": 10,
   "metadata": {
    "ExecuteTime": {
     "end_time": "2021-02-24T01:21:18.718499Z",
     "start_time": "2021-02-24T01:21:18.705499Z"
    }
   },
   "outputs": [
    {
     "data": {
      "text/plain": [
       "((2, 3), (0, 0), (0, 3))"
      ]
     },
     "execution_count": 10,
     "metadata": {},
     "output_type": "execute_result"
    }
   ],
   "source": [
    "# Get game state.\n",
    "game.get_game_state()"
   ]
  },
  {
   "cell_type": "code",
   "execution_count": null,
   "metadata": {
    "ExecuteTime": {
     "end_time": "2021-02-23T22:43:53.100626Z",
     "start_time": "2021-02-23T22:43:52.792588Z"
    }
   },
   "outputs": [],
   "source": [
    "POSSIBLE_LOCATIONS = [(x, y) for x in range(4) for y in range(4)]\n",
    "\n",
    "# Create q-table.\n",
    "q_table = {}\n",
    "\n",
    "for x in POSSIBLE_LOCATIONS:\n",
    "    for y in POSSIBLE_LOCATIONS:\n",
    "        for z in POSSIBLE_LOCATIONS:\n",
    "            if (x != y) & (x != z) & (y != z):\n",
    "                print((x, y, z))\n",
    "#                 q_table[(x, y, z)] = "
   ]
  },
  {
   "cell_type": "code",
   "execution_count": null,
   "metadata": {
    "ExecuteTime": {
     "end_time": "2021-02-23T23:07:00.817474Z",
     "start_time": "2021-02-23T23:07:00.806491Z"
    }
   },
   "outputs": [],
   "source": [
    "tuple(Rook('a1', 1).position)"
   ]
  },
  {
   "cell_type": "code",
   "execution_count": null,
   "metadata": {
    "ExecuteTime": {
     "end_time": "2021-02-23T23:28:57.962689Z",
     "start_time": "2021-02-23T23:28:57.952677Z"
    }
   },
   "outputs": [],
   "source": [
    "np.zeros((1, 8, 12))"
   ]
  },
  {
   "cell_type": "code",
   "execution_count": null,
   "metadata": {
    "ExecuteTime": {
     "end_time": "2021-02-23T23:51:10.084994Z",
     "start_time": "2021-02-23T23:51:10.073021Z"
    }
   },
   "outputs": [],
   "source": [
    "np.array([0,0]) + (1,1)"
   ]
  },
  {
   "cell_type": "code",
   "execution_count": null,
   "metadata": {},
   "outputs": [],
   "source": []
  }
 ],
 "metadata": {
  "kernelspec": {
   "display_name": "Python [conda env:learn-env] *",
   "language": "python",
   "name": "conda-env-learn-env-py"
  },
  "language_info": {
   "codemirror_mode": {
    "name": "ipython",
    "version": 3
   },
   "file_extension": ".py",
   "mimetype": "text/x-python",
   "name": "python",
   "nbconvert_exporter": "python",
   "pygments_lexer": "ipython3",
   "version": "3.6.9"
  },
  "toc": {
   "base_numbering": 1,
   "nav_menu": {},
   "number_sections": true,
   "sideBar": true,
   "skip_h1_title": false,
   "title_cell": "Table of Contents",
   "title_sidebar": "Contents",
   "toc_cell": false,
   "toc_position": {
    "height": "calc(100% - 180px)",
    "left": "10px",
    "top": "150px",
    "width": "384px"
   },
   "toc_section_display": true,
   "toc_window_display": true
  }
 },
 "nbformat": 4,
 "nbformat_minor": 2
}
